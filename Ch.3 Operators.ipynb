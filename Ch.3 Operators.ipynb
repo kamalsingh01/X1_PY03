{
 "cells": [
  {
   "cell_type": "markdown",
   "metadata": {},
   "source": [
    "# Operators in Python\n",
    "\n",
    "Operators are used to perform logical and arithematic operations on variables and objects.\n",
    "\n",
    "### Types of Operators\n",
    "\n",
    "#### Arithmetic Operators\n",
    "These are used to perform arithmetic operation.\n",
    "\n",
    "1. Addition : To add two numerical objects, <b>x+y</b>\n",
    "2. Subtraction : Subtracts two operands, <b>x-y</b>\n",
    "3. Multiplication : Multiplies two operands, <b>x*y</b>\n",
    "4. Division(float) : Divides first operand by second but returns float type value, <b>x/y</b> .\n",
    "5. Division (floor) :Divides first operand by second but returns int(floor) type value, <b>x//y</b> . \n",
    "6. Modulus :  returns the remainder when the first operand is divided by the second, <b>x%y</b>\n",
    "7. Power : returns first raised to power second, <b>x**y</b>"
   ]
  },
  {
   "cell_type": "code",
   "execution_count": 50,
   "metadata": {},
   "outputs": [
    {
     "name": "stdout",
     "output_type": "stream",
     "text": [
      "x+y 13\n",
      "x-y 5\n",
      "x*y 36\n",
      "x/y 2.25\n",
      "x//y 2\n",
      "x%y 1\n",
      "x**y 6561\n"
     ]
    }
   ],
   "source": [
    "x , y = 9 , 4\n",
    "\n",
    "print(\"x+y\",x+y)\n",
    "print(\"x-y\",x-y)\n",
    "print(\"x*y\",x*y)\n",
    "print(\"x/y\",x/y)\n",
    "print(\"x//y\",x//y)\n",
    "print(\"x%y\",x%y)\n",
    "print(\"x**y\",x**y)"
   ]
  },
  {
   "cell_type": "code",
   "execution_count": 51,
   "metadata": {},
   "outputs": [
    {
     "name": "stdout",
     "output_type": "stream",
     "text": [
      "-3\n"
     ]
    }
   ],
   "source": [
    "print(-5//2)\n",
    "# -3 because floor value is -3, smaller than -2"
   ]
  },
  {
   "cell_type": "markdown",
   "metadata": {},
   "source": [
    "#### Relational Operator\n",
    "It is used to compare values and returns Boolean Values.\n",
    "\n",
    "1. Greater than : <b>x>y</b> \n",
    "2. Lesser than :  x < y\n",
    "3. Equal to : <b>x==y</b> \n",
    "4. Not Equal to : <b>x!=y</b> \n",
    "5. Greater than or equal to : <b>x>=y</b> \n",
    "6. Lesser than or equal to : x <= y "
   ]
  },
  {
   "cell_type": "code",
   "execution_count": 52,
   "metadata": {},
   "outputs": [
    {
     "name": "stdout",
     "output_type": "stream",
     "text": [
      "a>b: False\n",
      "a<b: True\n",
      "a==b: False\n",
      "a!=b: True\n",
      "a>=b: False\n",
      "a<=b: True\n"
     ]
    }
   ],
   "source": [
    "a ,b  = 13 , 33\n",
    "print(\"a>b:\",a>b)\n",
    "print(\"a<b:\",a<b)\n",
    "print(\"a==b:\",a==b)\n",
    "print(\"a!=b:\",a!=b)\n",
    "print(\"a>=b:\",a>=b)\n",
    "print(\"a<=b:\",a<=b)"
   ]
  },
  {
   "cell_type": "markdown",
   "metadata": {},
   "source": [
    "#### Logical Operator\n",
    "These are used to combine conditional statement.\n",
    "\n",
    "1. Logical AND : True if both the operand are True, <b>x and y</b>\n",
    "2. Logical OR : False if both the operand are False, <b>x or y</b>\n",
    "3. Logical NOT : True if operand is false, <b>not x</b>"
   ]
  },
  {
   "cell_type": "code",
   "execution_count": 53,
   "metadata": {},
   "outputs": [
    {
     "name": "stdout",
     "output_type": "stream",
     "text": [
      "The numbers are greater than 0\n",
      "Atleast one number is not greater than 0\n"
     ]
    }
   ],
   "source": [
    "#AND Operator\n",
    "a = 10\n",
    "b = 10\n",
    "c = -10\n",
    "  \n",
    "if a > 0 and b > 0:\n",
    "    print(\"The numbers are greater than 0\")\n",
    "  \n",
    "if a > 0 and b > 0 and c > 0:\n",
    "    print(\"The numbers are greater than 0\")\n",
    "else:\n",
    "    print(\"Atleast one number is not greater than 0\")"
   ]
  },
  {
   "cell_type": "code",
   "execution_count": 54,
   "metadata": {},
   "outputs": [
    {
     "name": "stdout",
     "output_type": "stream",
     "text": [
      "Atleast one number has boolean value as False\n"
     ]
    }
   ],
   "source": [
    "#logical operator also works on numerical value,\n",
    "#non zero is True, 0 is false\n",
    "\n",
    "a = 10\n",
    "b = 12\n",
    "c = 0\n",
    "  \n",
    "if a and b and c:\n",
    "    print(\"All the numbers have boolean value as True\")\n",
    "else:\n",
    "    print(\"Atleast one number has boolean value as False\")"
   ]
  },
  {
   "cell_type": "markdown",
   "metadata": {},
   "source": [
    "    Note: If the first expression evaluated to be false while using and operator, then the further expressions are not evaluated.\n",
    "    \n",
    "    "
   ]
  },
  {
   "cell_type": "code",
   "execution_count": 55,
   "metadata": {},
   "outputs": [
    {
     "name": "stdout",
     "output_type": "stream",
     "text": [
      "Either of the number is greater than 0\n",
      "No number is greater than 0\n"
     ]
    }
   ],
   "source": [
    "#OR Operator\n",
    "\n",
    "a = 10\n",
    "b = -10\n",
    "c = 0\n",
    "  \n",
    "if a > 0 or b > 0:\n",
    "    print(\"Either of the number is greater than 0\")\n",
    "else:\n",
    "    print(\"No number is greater than 0\")\n",
    "  \n",
    "if b > 0 or c > 0:\n",
    "    print(\"Either of the number is greater than 0\")\n",
    "else:\n",
    "    print(\"No number is greater than 0\")"
   ]
  },
  {
   "cell_type": "code",
   "execution_count": 56,
   "metadata": {},
   "outputs": [
    {
     "name": "stdout",
     "output_type": "stream",
     "text": [
      "Atleast one number has boolean value as True\n"
     ]
    }
   ],
   "source": [
    "a = 10\n",
    "b = 12\n",
    "c = 0\n",
    "  \n",
    "if a or b or c:\n",
    "    print(\"Atleast one number has boolean value as True\")\n",
    "else:\n",
    "    print(\"All the numbers have boolean value as False\")"
   ]
  },
  {
   "cell_type": "markdown",
   "metadata": {},
   "source": [
    "    If the first expression evaluated to be True while using or operator, then the further expressions are not evaluated."
   ]
  },
  {
   "cell_type": "code",
   "execution_count": 57,
   "metadata": {},
   "outputs": [
    {
     "name": "stdout",
     "output_type": "stream",
     "text": [
      "10 is divisible by either 3 or 5\n"
     ]
    }
   ],
   "source": [
    "#NOT\n",
    "\n",
    "a = 10\n",
    "  \n",
    "if not a:\n",
    "    print(\"Boolean value of a is True\")\n",
    "  \n",
    "if not (a%3 == 0 or a%5 == 0):\n",
    "    print(\"10 is not divisible by either 3 or 5\")\n",
    "else:\n",
    "    print(\"10 is divisible by either 3 or 5\")"
   ]
  },
  {
   "cell_type": "markdown",
   "metadata": {},
   "source": [
    "<b> NOTE: Order of evaluation of Logical Operartor is done from left to right <b>"
   ]
  },
  {
   "cell_type": "code",
   "execution_count": 58,
   "metadata": {},
   "outputs": [
    {
     "name": "stdout",
     "output_type": "stream",
     "text": [
      "Method called for value: -1\n",
      "Method called for value: 5\n",
      "Atleast one of the number is positive\n"
     ]
    }
   ],
   "source": [
    "def order(x):\n",
    "    print(\"Method called for value:\", x)\n",
    "    return True if x > 0 else False\n",
    "      \n",
    "a = order\n",
    "b = order\n",
    "c = order\n",
    "  \n",
    "if a(-1) or b(5) or c(10):\n",
    "    print(\"Atleast one of the number is positive\")"
   ]
  },
  {
   "cell_type": "markdown",
   "metadata": {},
   "source": [
    "#### Bitwise Operator In Python\n",
    "Bitwise operator work on bits and perform bit-by-bit operations. Integers are converted to binary then bitwise operators act on binary number and output is generated in Int type.\n",
    "\n",
    "1. Bitwise AND : Returns 1 if both bits are 1 else 0, x & y\n",
    "2. Bitwise OR : Returns 0 if both bits are 0 else 1, x | y\n",
    "3. Bitwise NOT : Returns 0 if bit is 1, ~x\n",
    "4. Bitwise XOR : Returns 1 if one bit is 1 and other is 0, else returns 0, x ^ y\n",
    "5. Bitwise right Shift : Shifts the bits of the number to the right and fills 0 on voids left( fills 1 in the case of a negative number) as a result. \"x >> y\" means y bits of places are shifted to right in binary x.\n",
    "\n",
    "5. Bitwise left Shift : Shifts the bits of the number to the left and fills 0 on voids right as a result. \"x << y\" means y bits of places are shifted to left in binary x."
   ]
  },
  {
   "cell_type": "code",
   "execution_count": 59,
   "metadata": {},
   "outputs": [
    {
     "name": "stdout",
     "output_type": "stream",
     "text": [
      "a & b = 0\n",
      "a | b = 14\n",
      "~a = -11\n",
      "a ^ b = 14\n"
     ]
    }
   ],
   "source": [
    "a = 10\n",
    "b = 4\n",
    " \n",
    "#bitwise AND operation\n",
    "print(\"a & b =\", a & b)\n",
    " \n",
    "#bitwise OR operation\n",
    "print(\"a | b =\", a | b)\n",
    " \n",
    "#bitwise NOT operation\n",
    "print(\"~a =\", ~a)\n",
    " \n",
    "#bitwise XOR operation\n",
    "print(\"a ^ b =\", a ^ b)"
   ]
  },
  {
   "cell_type": "code",
   "execution_count": 60,
   "metadata": {},
   "outputs": [
    {
     "name": "stdout",
     "output_type": "stream",
     "text": [
      "Binary of 10 = 0b1010\n",
      "After shifting right 2 bit =  0b10\n",
      "Output 2\n"
     ]
    }
   ],
   "source": [
    "#bitwise right operator\n",
    "\n",
    "m = 10\n",
    "m_bin = bin(10)\n",
    "print(\"Binary of {} = {}\".format(m,m_bin))\n",
    "bt=2\n",
    "k = m>>bt\n",
    "print(\"After shifting right %d bit = \"%bt,bin(k))\n",
    "print(\"Output\",k)"
   ]
  },
  {
   "cell_type": "code",
   "execution_count": 61,
   "metadata": {},
   "outputs": [
    {
     "name": "stdout",
     "output_type": "stream",
     "text": [
      "Binary of 10 = 0b1010\n",
      "After shifting left 2 bit =  0b101000\n",
      "Output 40\n"
     ]
    }
   ],
   "source": [
    "#bitwise left operator\n",
    "\n",
    "m = 10\n",
    "m_bin = bin(10)\n",
    "print(\"Binary of {} = {}\".format(m,m_bin))\n",
    "bt=2\n",
    "k = m<<bt\n",
    "print(\"After shifting left %d bit = \"%bt,bin(k))\n",
    "print(\"Output\",k)"
   ]
  },
  {
   "attachments": {
    "Assin_op.PNG": {
     "image/png": "[encoded data removed]"
    }
   },
   "cell_type": "markdown",
   "metadata": {},
   "source": [
    "#### Assignment Operator\n",
    "These operators are used to assign values to varibales.\n",
    "\n",
    "![Assin_op.PNG](attachment:Assin_op.PNG)\n",
    "\n",
    "\n",
    "#### Identity Operation\n",
    "Used to check if two values are located on the same part of the memory.\n",
    "\n",
    "1. <b>is</b> : True if the operands are identical.\n",
    "2. <b>is not</b> : True if the operands are not identical.\n",
    "\n"
   ]
  },
  {
   "cell_type": "code",
   "execution_count": 62,
   "metadata": {},
   "outputs": [
    {
     "name": "stdout",
     "output_type": "stream",
     "text": [
      "True\n",
      "True\n"
     ]
    }
   ],
   "source": [
    "a = 10\n",
    "b = 20\n",
    "c = a\n",
    " \n",
    "print(a is not b)\n",
    "print(a is c)"
   ]
  },
  {
   "cell_type": "code",
   "execution_count": 63,
   "metadata": {},
   "outputs": [
    {
     "name": "stdout",
     "output_type": "stream",
     "text": [
      "true\n"
     ]
    }
   ],
   "source": [
    "x = 5.2\n",
    "if (type(x) is not int):\n",
    "    print(\"true\")\n",
    "else:\n",
    "    print(\"false\")"
   ]
  },
  {
   "cell_type": "markdown",
   "metadata": {},
   "source": [
    "#### Difference between == and is\n",
    "\n",
    "The Equality operator (==) compares the values of both the operands and checks for value equality. Whereas the ‘is’ operator checks whether both the operands refer to the same object or not (present in the same memory location).\n",
    "\n"
   ]
  },
  {
   "cell_type": "code",
   "execution_count": 64,
   "metadata": {},
   "outputs": [
    {
     "name": "stdout",
     "output_type": "stream",
     "text": [
      "False\n",
      "1317102407360\n",
      "1317102406912\n",
      "True\n"
     ]
    }
   ],
   "source": [
    "l1=[]\n",
    "l2=[]\n",
    "\n",
    "print(l1 is l2)\n",
    "\n",
    "print(id(l1),id(l2),sep='\\n')\n",
    "\n",
    "print(l1==l2)\n",
    "\n",
    "\n",
    "\n"
   ]
  },
  {
   "cell_type": "code",
   "execution_count": 65,
   "metadata": {},
   "outputs": [
    {
     "name": "stdout",
     "output_type": "stream",
     "text": [
      "False\n",
      "True\n",
      "False\n"
     ]
    }
   ],
   "source": [
    "k1=[1,4,56]\n",
    "k2=[1,4,56]\n",
    "k3=[1,4,6]\n",
    "\n",
    "print(k1 is k2)\n",
    "print(k1==k2)\n",
    "print(k1==k3)"
   ]
  },
  {
   "cell_type": "markdown",
   "metadata": {},
   "source": [
    "#### Membership Operator\n",
    "\n",
    "Used to test whether a value or variable is in a sequence.\n",
    "\n",
    "1. <b>in</b>     :       True if value is found in the sequence\n",
    "2. <b>not in</b>  :      True if value is not found in the sequenc"
   ]
  },
  {
   "cell_type": "code",
   "execution_count": 66,
   "metadata": {},
   "outputs": [
    {
     "name": "stdout",
     "output_type": "stream",
     "text": [
      "x is NOT present in given list\n",
      "y is present in given list\n"
     ]
    }
   ],
   "source": [
    "x = 24\n",
    "y = 20\n",
    "list = [10, 20, 30, 40, 50]\n",
    " \n",
    "if (x not in list):\n",
    "    print(\"x is NOT present in given list\")\n",
    "else:\n",
    "    print(\"x is present in given list\")\n",
    " \n",
    "if (y in list):\n",
    "    print(\"y is present in given list\")\n",
    "else:\n",
    "    print(\"y is NOT present in given list\")"
   ]
  },
  {
   "cell_type": "code",
   "execution_count": 67,
   "metadata": {},
   "outputs": [
    {
     "name": "stdout",
     "output_type": "stream",
     "text": [
      "not overlapping\n"
     ]
    }
   ],
   "source": [
    "list1=[1,2,3,4,5]\n",
    "list2=[6,7,8,9]\n",
    "for item in list1:\n",
    "    if item in list2:\n",
    "        print(\"overlapping\")     \n",
    "else:\n",
    "    print(\"not overlapping\")"
   ]
  },
  {
   "cell_type": "code",
   "execution_count": 68,
   "metadata": {},
   "outputs": [
    {
     "name": "stdout",
     "output_type": "stream",
     "text": [
      "not overlapping\n"
     ]
    }
   ],
   "source": [
    "def overlapping(list1,list2):\n",
    " \n",
    "    c=0\n",
    "    d=0\n",
    "    for i in list1:\n",
    "        c+=1\n",
    "    for i in list2:\n",
    "        d+=1\n",
    "    for i in range(0,c):\n",
    "        for j in range(0,d):\n",
    "            if(list1[i]==list2[j]):\n",
    "                return 1\n",
    "    return 0\n",
    "list1=[1,2,3,4,5]\n",
    "list2=[6,7,8,9]\n",
    "if(overlapping(list1,list2)):\n",
    "    print(\"overlapping\")\n",
    "else:\n",
    "    print(\"not overlapping\")"
   ]
  },
  {
   "cell_type": "markdown",
   "metadata": {},
   "source": [
    "#### Precedence and Associativity of Operators\n",
    "\n",
    "<b> Operator Precedence : </b> This is used in an expression with more than one operator with different precedence to determine which operation to perform first."
   ]
  },
  {
   "cell_type": "code",
   "execution_count": 69,
   "metadata": {},
   "outputs": [
    {
     "name": "stdout",
     "output_type": "stream",
     "text": [
      "610\n",
      "Hello! Welcome.\n"
     ]
    }
   ],
   "source": [
    "expr = 10 + 20 * 30\n",
    "print(expr)\n",
    " \n",
    "# Precedence of 'or' & 'and'\n",
    "name = \"Alex\"\n",
    "age = 0\n",
    " \n",
    "if name == \"Alex\" or name == \"John\" and age >= 2:\n",
    "    print(\"Hello! Welcome.\")\n",
    "else:\n",
    "    print(\"Good Bye!!\")"
   ]
  },
  {
   "cell_type": "markdown",
   "metadata": {},
   "source": [
    "<b> Operator Associativity </b>\n",
    "\n",
    "If an expression contains two or more operators with the same precedence then Operator Associativity is used to determine. It can either be Left to Right or from Right to Left.\n",
    "\n",
    "    In python Operator associativity is from left to right\n",
    "    \n",
    "### Ternary Operator\n",
    "\n",
    "Ternary operators are also known as conditional expressions are operators that evaluate something based on a condition being true or false.\n",
    "\n",
    "It was added to Python in version 2.5. \n",
    "\n",
    "It simply allows testing a condition in a single line replacing the multiline if-else making the code compact\n",
    "\n",
    "First the given condition is evaluated then output is returned based on boolean value returned by condition.\n",
    "\n",
    "Conditional expressions have the lowest priority amongst all Python operations."
   ]
  },
  {
   "cell_type": "code",
   "execution_count": 70,
   "metadata": {},
   "outputs": [
    {
     "name": "stdout",
     "output_type": "stream",
     "text": [
      "10\n"
     ]
    }
   ],
   "source": [
    "#simple way\n",
    "\n",
    "a, b = 10, 20\n",
    "\n",
    "min = a if a < b else b  # a is output if true\n",
    " \n",
    "print(min)"
   ]
  },
  {
   "cell_type": "code",
   "execution_count": 71,
   "metadata": {},
   "outputs": [
    {
     "name": "stdout",
     "output_type": "stream",
     "text": [
      "10\n",
      "10\n",
      "10\n"
     ]
    }
   ],
   "source": [
    "#using tuple, dictionary and lambda\n",
    "\n",
    "# Python program to demonstrate ternary operator\n",
    "a, b = 10, 20\n",
    " \n",
    "# Use tuple for selecting an item\n",
    "# (if_test_false,if_test_true)[test]\n",
    "# if [a<b] is true it return 1, so element with 1 index will print\n",
    "# else if [a<b] is false it return 0, so element with 0 index will print\n",
    "print( (b, a) [a < b] )\n",
    " \n",
    "# Use Dictionary for selecting an item\n",
    "# if [a < b] is true then value of True key will print\n",
    "# else if [a<b] is false then value of False key will print\n",
    "print({True: a, False: b} [a < b])\n",
    " \n",
    "# lambda is more efficient than above two methods\n",
    "# because in lambda  we are assure that\n",
    "# only one expression will be evaluated unlike in\n",
    "# tuple and Dictionary\n",
    "print((lambda: b, lambda: a)[a < b]())"
   ]
  },
  {
   "cell_type": "code",
   "execution_count": 72,
   "metadata": {},
   "outputs": [
    {
     "name": "stdout",
     "output_type": "stream",
     "text": [
      "b is greater than a\n"
     ]
    }
   ],
   "source": [
    "#nested ternary operator\n",
    "a, b = 10, 20\n",
    " \n",
    "print (\"Both a and b are equal\" if a == b else \"a is greater than b\"\n",
    "        if a > b else \"b is greater than a\")"
   ]
  },
  {
   "cell_type": "code",
   "execution_count": 73,
   "metadata": {},
   "outputs": [
    {
     "name": "stdout",
     "output_type": "stream",
     "text": [
      "7 is Greater\n"
     ]
    }
   ],
   "source": [
    "#using print() with ternary operator\n",
    "\n",
    "a=5\n",
    "b=7 \n",
    "print(a,\"is greater\") if (a>b) else print(b,\"is Greater\")"
   ]
  },
  {
   "cell_type": "markdown",
   "metadata": {},
   "source": [
    "### Operator Overloading In Python\n",
    "Operator Overloading means giving extended meaning beyond their predefined operational meaning.\n",
    "\n",
    " For example operator + is used to add two integers as well as join two strings and merge two lists. It is achievable because ‘+’ operator is overloaded by int class and str class"
   ]
  },
  {
   "cell_type": "code",
   "execution_count": 74,
   "metadata": {},
   "outputs": [
    {
     "name": "stdout",
     "output_type": "stream",
     "text": [
      "3\n",
      "KamalSingh\n",
      "12\n",
      "SinghSinghSinghSingh\n"
     ]
    }
   ],
   "source": [
    "# Python program to show use of\n",
    "# + operator for different purposes.\n",
    " \n",
    "print(1 + 2)\n",
    " \n",
    "# concatenate two strings\n",
    "print(\"Kamal\"+\"Singh\")\n",
    " \n",
    "# Product two numbers\n",
    "print(3 * 4)\n",
    " \n",
    "# Repeat the String\n",
    "print(\"Singh\"*4)"
   ]
  },
  {
   "cell_type": "markdown",
   "metadata": {},
   "source": [
    "   > method for an operator and that process is called operator overloading. We can overload all existing operators but we can’t create a new operator. To perform operator overloading, Python provides some special function or magic function that is automatically invoked when it is associated with that particular operator. This is where polymorphism comes into picture(a property for object orientation) where we make many method with a single name and depending on the data object assigned to the function particular funtions runs and provides the output.\n",
    "   \n",
    "   >When we use an operator on user defined data types then automatically a special function or magic function associated with that operator is invoked. Changing the behavior of operator is as simple as changing the behavior of method or function. "
   ]
  },
  {
   "cell_type": "markdown",
   "metadata": {},
   "source": [
    "#### 'Any' \n",
    "Returns true if any of the items is True. It returns False if empty or all are false.\n",
    "\n",
    "    Any can be thought of as a sequence of OR operations on the provided iterables and stop the execution as soon as the result is known.\n",
    "\n"
   ]
  },
  {
   "cell_type": "code",
   "execution_count": 75,
   "metadata": {},
   "outputs": [
    {
     "name": "stdout",
     "output_type": "stream",
     "text": [
      "False\n",
      "True\n",
      "True\n"
     ]
    }
   ],
   "source": [
    "print (any([False, False, False, False]))  #false\n",
    "  \n",
    "\n",
    "print (any([False, True, False, False])) #true\n",
    "  \n",
    "\n",
    "print (any([True, False, False, False])) #true"
   ]
  },
  {
   "cell_type": "markdown",
   "metadata": {},
   "source": [
    "#### 'All'\n",
    "Returns true if all of the items are True (or if the iterable is empty).\n",
    "\n",
    "    All can be thought of as a sequence of AND operations on the provided iterables."
   ]
  },
  {
   "cell_type": "code",
   "execution_count": 76,
   "metadata": {},
   "outputs": [
    {
     "name": "stdout",
     "output_type": "stream",
     "text": [
      "True\n",
      "False\n",
      "False\n"
     ]
    }
   ],
   "source": [
    "print (all([True, True, True, True]))\n",
    "  \n",
    "\n",
    "print (all([False, True, True, False]))\n",
    "  \n",
    "\n",
    "print (all([False, False, False]))"
   ]
  },
  {
   "cell_type": "code",
   "execution_count": 77,
   "metadata": {},
   "outputs": [
    {
     "name": "stdout",
     "output_type": "stream",
     "text": [
      "[4, 8, 12, 16, 20, 24, 28, 32, 36, 40]\n",
      "[False, False, False, False, True, False, False, False, False, True]\n",
      "True\n",
      "False\n"
     ]
    }
   ],
   "source": [
    "#example\n",
    "\n",
    "list1 = []\n",
    "list2 = []\n",
    "  \n",
    "\n",
    "for i in range(1,11):\n",
    "    list1.append(4*i) \n",
    "    \n",
    "for i in range(0,10):\n",
    "    list2.append(list1[i]%5==0)\n",
    "  \n",
    "print(list1, list2, sep='\\n')\n",
    "print(any(list2))\n",
    "print(all(list2))"
   ]
  },
  {
   "cell_type": "code",
   "execution_count": null,
   "metadata": {},
   "outputs": [],
   "source": []
  }
 ],
 "metadata": {
  "kernelspec": {
   "display_name": "Python 3",
   "language": "python",
   "name": "python3"
  },
  "language_info": {
   "codemirror_mode": {
    "name": "ipython",
    "version": 3
   },
   "file_extension": ".py",
   "mimetype": "text/x-python",
   "name": "python",
   "nbconvert_exporter": "python",
   "pygments_lexer": "ipython3",
   "version": "3.8.5"
  }
 },
 "nbformat": 4,
 "nbformat_minor": 4
}
