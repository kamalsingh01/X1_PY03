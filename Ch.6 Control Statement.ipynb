{
 "cells": [
  {
   "cell_type": "markdown",
   "metadata": {},
   "source": [
    "# Control Statement\n",
    "Control Statements control the flow of execution of the program/statements.\n",
    "\n",
    "These are used to create critical programs in python.\n",
    "\n",
    "These are used when we want to repeat some statements again and again, or we want to jump from one statement to other.\n",
    "\n",
    "\n",
    "## 1. 'if' statement\n",
    "This statement is statement is used to execute one or more statement depending upon whether a condition is True or not:\n",
    "\n",
    "> if condition:\n",
    "    \n",
    "            suite\n",
    "            \n",
    "first condition is checked, if True the statements after colon are excecuted,otherwise no statement is executed."
   ]
  },
  {
   "cell_type": "code",
   "execution_count": 8,
   "metadata": {},
   "outputs": [
    {
     "name": "stdout",
     "output_type": "stream",
     "text": [
      "number is 1\n"
     ]
    }
   ],
   "source": [
    "# ex1\n",
    "num=1\n",
    "if num==1:\n",
    "    print('number is 1')"
   ]
  },
  {
   "cell_type": "markdown",
   "metadata": {},
   "source": [
    "<b> imp. </b>\n",
    "\n",
    "in pyhton collection of statements is called 'suite' and it can contain allm types of code.\n",
    "\n",
    "in place of condition, every non-zero value or any expresion resulting other than zero is considered as True in python.\n",
    "\n",
    "## 2. 'if..else' statement\n",
    "this statement executes a set of statements if a condition is true,otherwise other set of statements are executed.\n",
    "\n",
    ">if condition:\n",
    "\n",
    "            suite1\n",
    "        \n",
    ">else:\n",
    "\n",
    "            suite2"
   ]
  },
  {
   "cell_type": "code",
   "execution_count": 9,
   "metadata": {},
   "outputs": [
    {
     "name": "stdout",
     "output_type": "stream",
     "text": [
      "negetive number\n"
     ]
    }
   ],
   "source": [
    "# ex\n",
    "num=-7\n",
    "if num>0:\n",
    "    print('positive number')\n",
    "else:\n",
    "    print('negetive number')"
   ]
  },
  {
   "cell_type": "code",
   "execution_count": 12,
   "metadata": {},
   "outputs": [
    {
     "name": "stdout",
     "output_type": "stream",
     "text": [
      "hey kamal\n"
     ]
    }
   ],
   "source": [
    "#ex-imp\n",
    "x=10\n",
    "if x:  #here x is a non zero value hence interpretor takes it as a true value.\n",
    "    print('hey kamal')\n",
    "else:\n",
    "    print('bye kamal')"
   ]
  },
  {
   "cell_type": "code",
   "execution_count": 13,
   "metadata": {},
   "outputs": [
    {
     "name": "stdout",
     "output_type": "stream",
     "text": [
      "bye\n"
     ]
    }
   ],
   "source": [
    "#ex\n",
    "if 3>8:  #this condition results false hence 'bye' is printed.\n",
    "    print('hii')\n",
    "else:\n",
    "    print('bye')"
   ]
  },
  {
   "cell_type": "markdown",
   "metadata": {},
   "source": [
    "## 3. 'if..elif..else' statement\n",
    "\n",
    "This statement is useful when we have multiple condition cases. In pyhton, we use 'elif' in place of 'else if'.\n",
    "\n",
    "> if condition1 :\n",
    "\n",
    "            suite1\n",
    "> elif condition2 :\n",
    "\n",
    "            suite2\n",
    "> elif condition3 :\n",
    "\n",
    "            suite3\n",
    "> else:\n",
    "\n",
    "            suite4\n",
    "\n",
    "Coming from top, if the interpreter enconters any condition which evaluates to <b>True</b>,then it is accepted and all the following conditions are dropped off.\n",
    "\n",
    "<b>else part</b> executes when all the above condition fails to evaluate True."
   ]
  },
  {
   "cell_type": "code",
   "execution_count": 14,
   "metadata": {},
   "outputs": [
    {
     "name": "stdout",
     "output_type": "stream",
     "text": [
      "Enter the number: 42\n",
      "POSITIVE\n"
     ]
    }
   ],
   "source": [
    "#ex\n",
    "num=int(input(\"Enter the number: \"))\n",
    "if num==0:\n",
    "    print(\"ZERO\")\n",
    "elif num>0:\n",
    "    print(\"POSITIVE\")\n",
    "else:\n",
    "    print(\"NEGETIVE\")"
   ]
  },
  {
   "cell_type": "code",
   "execution_count": 15,
   "metadata": {},
   "outputs": [
    {
     "name": "stdout",
     "output_type": "stream",
     "text": [
      "Enter the number: -53\n",
      "negetive\n"
     ]
    }
   ],
   "source": [
    "#this above code can be written in another form with '1 space indentation'\n",
    "\n",
    "num=int(input('Enter the number: '))\n",
    "if num==0: print('zero')\n",
    "elif num>0: print('positive')\n",
    "else: print('negetive')"
   ]
  },
  {
   "cell_type": "code",
   "execution_count": 17,
   "metadata": {},
   "outputs": [
    {
     "name": "stdout",
     "output_type": "stream",
     "text": [
      "Enter the numerical value-7.782\n",
      "Negetive decimal\n"
     ]
    }
   ],
   "source": [
    "#ex-imp\n",
    "num=eval(input('Enter the numerical value'))\n",
    "if num==0:\n",
    "    print(\"ZERO\")\n",
    "elif num>0:\n",
    "    if type(num)==int:\n",
    "        print(\"Positive integer\")\n",
    "    elif type(num)==float:\n",
    "        print(\"Positive Decimal\")\n",
    "else:\n",
    "    if type(num)==int:\n",
    "        print('Negetive integer')\n",
    "    elif type(num)==float:\n",
    "        print('Negetive decimal')"
   ]
  },
  {
   "cell_type": "markdown",
   "metadata": {},
   "source": [
    "#### NOTE: \n",
    "1. if an 'if' statement encounters after elif with same indentation,it will be executed irrespective of elif.\n",
    "2. There is no switch statement in Python."
   ]
  },
  {
   "cell_type": "markdown",
   "metadata": {},
   "source": [
    "### 4. 'while' Loop\n",
    "\n",
    "This control statement is useful to execute a set of statements multiple times based on some condition which evaluates to either True or False.\n",
    "\n",
    "> while condition:\n",
    "\n",
    "        suite\n",
    "        \n",
    "First the condition is evaluated and then the statements executes accordingly and as long as condition results True, the loop continues.\n",
    "\n",
    "<b>NOTE: </b>\n",
    "> Updation statement is required in while loop."
   ]
  },
  {
   "cell_type": "code",
   "execution_count": 5,
   "metadata": {},
   "outputs": [
    {
     "name": "stdout",
     "output_type": "stream",
     "text": [
      "1 2 3 4 5 6 7 8 9 10 "
     ]
    }
   ],
   "source": [
    "#printing numbers from 1 to 10\n",
    "\n",
    "i=1\n",
    "while i<=10:\n",
    "    print(i,end=' ')\n",
    "    i=i+1"
   ]
  },
  {
   "cell_type": "code",
   "execution_count": 15,
   "metadata": {},
   "outputs": [
    {
     "name": "stdout",
     "output_type": "stream",
     "text": [
      "Enter the lower and upper bound(comma seperated): 27,88\n",
      "[28, 30, 32, 34, 36, 38, 40, 42, 44, 46, 48, 50, 52, 54, 56, 58, 60, 62, 64, 66, 68, 70, 72, 74, 76, 78, 80, 82, 84, 86, 88]\n",
      "[27, 29, 31, 33, 35, 37, 39, 41, 43, 45, 47, 49, 51, 53, 55, 57, 59, 61, 63, 65, 67, 69, 71, 73, 75, 77, 79, 81, 83, 85, 87]\n"
     ]
    }
   ],
   "source": [
    "#finding odd and even between a range\n",
    "\n",
    "lb,ub = [int(x) for x in input('Enter the lower and upper bound(comma seperated): ').split(',')]\n",
    "lsteve, lstodd= [],[]\n",
    "while(lb<=ub):\n",
    "    if (lb)%2==0:\n",
    "        lsteve.append(lb)\n",
    "    else:\n",
    "        lstodd.append(lb)\n",
    "    lb=lb+1\n",
    "print(lsteve,lstodd,sep='\\n')"
   ]
  },
  {
   "cell_type": "code",
   "execution_count": 19,
   "metadata": {},
   "outputs": [
    {
     "name": "stdout",
     "output_type": "stream",
     "text": [
      "Enter the number:748989364\n",
      "Non-prime\n"
     ]
    }
   ],
   "source": [
    "#prime number check\n",
    "\n",
    "x=int(input(\"Enter the number:\"))\n",
    "flag=0\n",
    "if x==0:\n",
    "    print('enter a valid number')\n",
    "elif x==1 or x==2:\n",
    "    print(\"prime\")\n",
    "else:\n",
    "    i=2\n",
    "    while(i<x):\n",
    "        if x%i==0:\n",
    "            flag=1\n",
    "            break\n",
    "        i=i+1\n",
    "    if flag==1:\n",
    "        print('Non-prime')\n",
    "    else:\n",
    "        print('prime') "
   ]
  },
  {
   "cell_type": "markdown",
   "metadata": {},
   "source": [
    "### 5. 'for' loop\n",
    "The 'for' loop is useful to iterate over objects like list, tuples, dictionary, range, string and other iterable objects.\n",
    "\n",
    "for loop contibues till last element of the iterables.\n",
    "\n",
    "Iterating over object is called Traversal\n",
    "\n",
    "> Statement in the for loop body executes repeatedly depending on the no. of elements in a sequence.\n",
    "\n",
    "FORMAT\n",
    "\n",
    "> <b>for var <b>in sequence\n",
    "        \n",
    "    suite  \n",
    " "
   ]
  },
  {
   "cell_type": "markdown",
   "metadata": {},
   "source": [
    "#### NOTE:\n",
    "\n",
    "Elements of sequence are assigned to 'var' variable one by one from sequence, and the membership operator 'in' checks that if the element is present in the sequence or not. if the 'in' operator returns True the loop suite executes. "
   ]
  },
  {
   "cell_type": "code",
   "execution_count": 21,
   "metadata": {},
   "outputs": [
    {
     "name": "stdout",
     "output_type": "stream",
     "text": [
      "2 3 4 5 6 7 "
     ]
    }
   ],
   "source": [
    "for i in [2,3,4,5,6,7]:\n",
    "    print(i,end=' ')"
   ]
  },
  {
   "cell_type": "code",
   "execution_count": 24,
   "metadata": {},
   "outputs": [
    {
     "name": "stdout",
     "output_type": "stream",
     "text": [
      "k a m a l "
     ]
    }
   ],
   "source": [
    "str1='kamal'\n",
    "for i in str1:\n",
    "    print(i,end=' ')"
   ]
  },
  {
   "cell_type": "markdown",
   "metadata": {},
   "source": [
    "### range() function\n",
    "\n",
    "range(n) function returns <b>integer values from 0 to n-1</b>\n",
    "\n",
    "range function can also be used with upper bound(ub),lower bound(lb) and step-size as\n",
    "\n",
    "> range(lb,ub,step-size)\n",
    "\n",
    "by default stepsize is 1 and lb is 0\n",
    "\n",
    "#### Note:\n",
    "> range() funtion always return integer values"
   ]
  },
  {
   "cell_type": "code",
   "execution_count": 25,
   "metadata": {},
   "outputs": [
    {
     "name": "stdout",
     "output_type": "stream",
     "text": [
      "0\n",
      "1\n",
      "2\n",
      "3\n",
      "4\n",
      "5\n",
      "6\n",
      "7\n",
      "8\n",
      "9\n"
     ]
    }
   ],
   "source": [
    "for i in range(10):\n",
    "    print(i)"
   ]
  },
  {
   "cell_type": "code",
   "execution_count": 26,
   "metadata": {},
   "outputs": [
    {
     "name": "stdout",
     "output_type": "stream",
     "text": [
      "50,51,52,53,54,55,56,57,58,59,60,61,62,63,64,65,66,67,68,69,70,71,72,73,74,75,76,77,78,79,80,81,82,83,84,85,86,87,88,89,90,91,92,93,94,95,96,97,98,99,"
     ]
    }
   ],
   "source": [
    "for i in range(50,100):\n",
    "    print(i,end=',')"
   ]
  },
  {
   "cell_type": "code",
   "execution_count": 30,
   "metadata": {},
   "outputs": [
    {
     "name": "stdout",
     "output_type": "stream",
     "text": [
      "50,52,54,56,58,60,62,64,66,68,70,72,74,76,78,80,82,84,86,88,90,92,94,96,98,"
     ]
    }
   ],
   "source": [
    "for i in range(50,100,2):\n",
    "    print(i,end=',')"
   ]
  },
  {
   "cell_type": "code",
   "execution_count": 32,
   "metadata": {},
   "outputs": [
    {
     "name": "stdout",
     "output_type": "stream",
     "text": [
      "10 9 8 7 6 5 4 3 2 1 "
     ]
    }
   ],
   "source": [
    "for i in range(10,0,-1):\n",
    "    print(i,end=' ')"
   ]
  },
  {
   "cell_type": "code",
   "execution_count": 36,
   "metadata": {},
   "outputs": [
    {
     "name": "stdout",
     "output_type": "stream",
     "text": [
      "55\n"
     ]
    }
   ],
   "source": [
    "s1=0\n",
    "for i in range(1,11):\n",
    "    s1=s1+i\n",
    "print(s1)"
   ]
  },
  {
   "cell_type": "code",
   "execution_count": 38,
   "metadata": {},
   "outputs": [
    {
     "name": "stdout",
     "output_type": "stream",
     "text": [
      "4,kamal,8.9,"
     ]
    }
   ],
   "source": [
    "for i in (4,'kamal',8.9):\n",
    "    print(i,end=',')"
   ]
  },
  {
   "cell_type": "code",
   "execution_count": 44,
   "metadata": {},
   "outputs": [
    {
     "name": "stdout",
     "output_type": "stream",
     "text": [
      "one kamal\n",
      "two gagan\n",
      "three pranav\n",
      "four aarush\n"
     ]
    }
   ],
   "source": [
    "\n",
    "for i in {'one':'kamal','two':'gagan','three':'pranav','four':'aarush'}:\n",
    "    print(i, {'one':'kamal','two':'gagan','three':'pranav','four':'aarush'}[i])"
   ]
  },
  {
   "cell_type": "markdown",
   "metadata": {},
   "source": [
    "### Infinite Loops\n",
    "\n",
    "without using proper updation statemnt,loop can lead to no termination condition.\n",
    "\n",
    "providing True in while loop without any condition that leads  to no termination condition."
   ]
  },
  {
   "cell_type": "code",
   "execution_count": 45,
   "metadata": {},
   "outputs": [
    {
     "data": {
      "text/plain": [
       "'\\ni=1\\nwhile i<10:\\n    print(i)  \\n            # no updation statement\\n'"
      ]
     },
     "execution_count": 45,
     "metadata": {},
     "output_type": "execute_result"
    }
   ],
   "source": [
    "#ex: \n",
    "'''\n",
    "i=1\n",
    "while i<10:\n",
    "    print(i)  \n",
    "            # no updation statement\n",
    "'''"
   ]
  },
  {
   "cell_type": "code",
   "execution_count": null,
   "metadata": {},
   "outputs": [],
   "source": [
    "#ex: \n",
    "'''\n",
    "while True:  #loop continues to infinity\n",
    "        print('Hii')\n",
    "'''"
   ]
  },
  {
   "cell_type": "markdown",
   "metadata": {},
   "source": [
    "### Nested Loop (Loop inside Loop)\n",
    "\n",
    "Loop inside loop is a nested loop\n",
    "\n",
    "> for ... : \n",
    "\n",
    "        statement\n",
    "        for .... :\n",
    "            \n",
    "                suite\n",
    "               \n",
    "first outer loop executes once,and inner loops executes y times.Again outer loop executes once then inner loop executes y times,and this goes on x times."
   ]
  },
  {
   "cell_type": "code",
   "execution_count": 1,
   "metadata": {},
   "outputs": [
    {
     "name": "stdout",
     "output_type": "stream",
     "text": [
      "(0, 0) (0, 1) (0, 2) (0, 3) \n",
      "(1, 0) (1, 1) (1, 2) (1, 3) \n",
      "(2, 0) (2, 1) (2, 2) (2, 3) \n"
     ]
    }
   ],
   "source": [
    "#ex\n",
    "for i in range(3):\n",
    "    for j in range(4):\n",
    "        print((i,j),end=' ')\n",
    "    print()"
   ]
  },
  {
   "cell_type": "code",
   "execution_count": 3,
   "metadata": {},
   "outputs": [
    {
     "name": "stdout",
     "output_type": "stream",
     "text": [
      "*\n",
      "**\n",
      "***\n",
      "****\n",
      "*****\n"
     ]
    }
   ],
   "source": [
    "#ex-printing pattern\n",
    "for i in range(5):\n",
    "    for j in range(i+1):\n",
    "        print('*',end='')\n",
    "    print()"
   ]
  },
  {
   "cell_type": "code",
   "execution_count": 6,
   "metadata": {},
   "outputs": [
    {
     "name": "stdout",
     "output_type": "stream",
     "text": [
      "    1     2     3     4     5     6     7     8     9    10 \n",
      "    2     4     6     8    10    12    14    16    18    20 \n",
      "    3     6     9    12    15    18    21    24    27    30 \n",
      "    4     8    12    16    20    24    28    32    36    40 \n",
      "    5    10    15    20    25    30    35    40    45    50 \n",
      "    6    12    18    24    30    36    42    48    54    60 \n",
      "    7    14    21    28    35    42    49    56    63    70 \n",
      "    8    16    24    32    40    48    56    64    72    80 \n",
      "    9    18    27    36    45    54    63    72    81    90 \n",
      "   10    20    30    40    50    60    70    80    90   100 \n"
     ]
    }
   ],
   "source": [
    "#printing tables till 10\n",
    "for i in range(1,11):\n",
    "    for j in range(1,11):\n",
    "        print('{:5}'.format(i*j), end=' ')\n",
    "    print()"
   ]
  },
  {
   "cell_type": "markdown",
   "metadata": {},
   "source": [
    "### 'break' statement\n",
    "\n",
    "<b>break</b> statement is used to terminate and come out of the loop based on condition.\n",
    "\n",
    "whenever a 'break' statement is encountered interpreter jumps out of the loop and processes the next statements which are out of loop."
   ]
  },
  {
   "cell_type": "code",
   "execution_count": 7,
   "metadata": {},
   "outputs": [
    {
     "name": "stdout",
     "output_type": "stream",
     "text": [
      "1\n",
      "2\n",
      "3\n",
      "4\n",
      "5\n"
     ]
    }
   ],
   "source": [
    "#ex-\n",
    "for i in range(1,11):\n",
    "    if i>5:\n",
    "        break #condition satisfies,interpretor comes out of loop\n",
    "    print(i)"
   ]
  },
  {
   "cell_type": "code",
   "execution_count": 9,
   "metadata": {},
   "outputs": [
    {
     "name": "stdout",
     "output_type": "stream",
     "text": [
      "10 9 8 7 6 5 "
     ]
    }
   ],
   "source": [
    "#ex\n",
    "i=10\n",
    "while(i>0):\n",
    "    if i==4:\n",
    "        break\n",
    "    print(i, end=' ')\n",
    "    i=i-1\n",
    "    "
   ]
  },
  {
   "cell_type": "code",
   "execution_count": 10,
   "metadata": {},
   "outputs": [
    {
     "name": "stdout",
     "output_type": "stream",
     "text": [
      "\n",
      "(1, 0) (1, 1) (1, 2) \n",
      "\n",
      "(3, 0) (3, 1) (3, 2) \n"
     ]
    }
   ],
   "source": [
    "#break in nested loop\n",
    "\n",
    "for i in range(4):\n",
    "    for j in range(3):\n",
    "        if(i%2==0 and j%2==0):\n",
    "            break\n",
    "        print((i,j),end=' ')\n",
    "    print()"
   ]
  },
  {
   "cell_type": "markdown",
   "metadata": {},
   "source": [
    "#### Note: \n",
    "> in case of multiple loops,whenever breaks encounters it only comes out of the current loop to the predecessor loop(or current outer loop)\n",
    "\n",
    "\n",
    "### 'continue' statement\n",
    "\n",
    "Whenever a continue statement is encountered the subsequent statements are not executed and the cursor goes to the top of the loop."
   ]
  },
  {
   "cell_type": "code",
   "execution_count": 13,
   "metadata": {},
   "outputs": [
    {
     "name": "stdout",
     "output_type": "stream",
     "text": [
      "10 8 7 5 4 2 1 "
     ]
    }
   ],
   "source": [
    "for i in range(10,0,-1):\n",
    "    if(i%3==0):\n",
    "        continue\n",
    "    print(i,end=' ')"
   ]
  },
  {
   "cell_type": "code",
   "execution_count": 16,
   "metadata": {},
   "outputs": [
    {
     "name": "stdout",
     "output_type": "stream",
     "text": [
      "1 3 5 7 9 "
     ]
    }
   ],
   "source": [
    "#ex-imp\n",
    "i=0\n",
    "while i!=10:\n",
    "    i=i+1\n",
    "    if((i*i)%2==0):\n",
    "        continue\n",
    "    print(i,end=' ')"
   ]
  },
  {
   "cell_type": "code",
   "execution_count": 18,
   "metadata": {},
   "outputs": [
    {
     "name": "stdout",
     "output_type": "stream",
     "text": [
      "(1, 2) \n",
      "\n",
      "(3, 2) \n"
     ]
    }
   ],
   "source": [
    "#continue in multiple loop\n",
    "\n",
    "for i in range(1,4):\n",
    "    for j in range(1,3):\n",
    "        if(i%j==0):\n",
    "            continue\n",
    "        print((i,j),end=' ')\n",
    "    print()"
   ]
  },
  {
   "cell_type": "markdown",
   "metadata": {},
   "source": [
    "#### Note: \n",
    "> Whenever continue statemnt occurs in an inner loop,it skips the following statements in the current loop and goes to the top of current loop.\n",
    "\n",
    "### The 'else suite'\n",
    "\n",
    "It is used with <b>for</b> and <b> while</b> loop.\n",
    "   \n",
    "FORMAT: \n",
    ">  for var in sequence:\n",
    "            \n",
    "                statements..\n",
    "       else:\n",
    "                statements\n",
    "          \n",
    ">  while condition:\n",
    "            \n",
    "                statements..\n",
    "       else:\n",
    "                statements..\n",
    "        \n",
    "#### IMP Note: \n",
    "            The else suite always executes irrespective of the statements in the loop are executed or not \n",
    "         "
   ]
  },
  {
   "cell_type": "code",
   "execution_count": 19,
   "metadata": {},
   "outputs": [
    {
     "name": "stdout",
     "output_type": "stream",
     "text": [
      "Yes\n",
      "Yes\n",
      "Yes\n",
      "Yes\n",
      "Yes\n",
      "end of loop\n"
     ]
    }
   ],
   "source": [
    "#ex: with for loop\n",
    "for i in range(5):\n",
    "    print('Yes')\n",
    "else:\n",
    "    print('end of loop')"
   ]
  },
  {
   "cell_type": "code",
   "execution_count": 20,
   "metadata": {},
   "outputs": [
    {
     "name": "stdout",
     "output_type": "stream",
     "text": [
      "Yes\n",
      "Yes\n",
      "Yes\n",
      "Yes\n",
      "Yes\n",
      "No\n"
     ]
    }
   ],
   "source": [
    "#ex: with while loop\n",
    "i=0\n",
    "while i<5:\n",
    "    print('Yes')\n",
    "    i=i+1\n",
    "else:\n",
    "    print('No')"
   ]
  },
  {
   "cell_type": "code",
   "execution_count": 27,
   "metadata": {},
   "outputs": [
    {
     "name": "stdout",
     "output_type": "stream",
     "text": [
      "enter the element to search for: 4\n",
      "element found\n"
     ]
    }
   ],
   "source": [
    "#ex- else suite with break statement\n",
    "group1=[1,2,3,4,5]\n",
    "num=int(input('enter the element to search for: '))\n",
    "for i in [1,2,3,4,5]:\n",
    "    if(i==num):\n",
    "        print('element found')\n",
    "        break\n",
    "else:\n",
    "    print('element not found')"
   ]
  },
  {
   "cell_type": "markdown",
   "metadata": {},
   "source": [
    "> else suite does not executes whenver break statement executes wherewas in case of continue, else suite executes irrespective of continue statement"
   ]
  },
  {
   "cell_type": "code",
   "execution_count": 28,
   "metadata": {},
   "outputs": [
    {
     "name": "stdout",
     "output_type": "stream",
     "text": [
      "enter the element to search for: 5\n",
      "element found\n",
      "element not found\n"
     ]
    }
   ],
   "source": [
    "#ex: else suite with continue statement\n",
    "group1=[1,2,3,4,5,6,7,8,9,10]\n",
    "num=int(input('enter the element to search for: '))\n",
    "for i in group1:\n",
    "    if(i==num):\n",
    "        print('element found')\n",
    "        continue\n",
    "else:\n",
    "    print('element not found')"
   ]
  },
  {
   "cell_type": "markdown",
   "metadata": {},
   "source": [
    "### 'pass' statement\n",
    "It is used with 'if' statement or inside a loop to represent no operation.\n",
    "\n",
    "used when we need a statement syntactically but don't want to do any operation."
   ]
  },
  {
   "cell_type": "code",
   "execution_count": 29,
   "metadata": {},
   "outputs": [
    {
     "name": "stdout",
     "output_type": "stream",
     "text": [
      "-4\n",
      "-5\n",
      "-6\n",
      "-7\n"
     ]
    }
   ],
   "source": [
    "#ex: extracting negetive elements using passs\n",
    "num=[1,2,3,-4,-5,-6,-7,8,9]\n",
    "for i in num:\n",
    "    if i>0:\n",
    "        pass\n",
    "    else:\n",
    "        print(i)"
   ]
  },
  {
   "cell_type": "markdown",
   "metadata": {},
   "source": [
    "### 'assert' statement\n",
    "\n",
    "useful to check whether a condition is fulfilled or not.\n",
    "\n",
    "FORMAT: \n",
    "> assert , condition , message\n",
    "\n",
    "message is not compulsary."
   ]
  },
  {
   "cell_type": "code",
   "execution_count": 31,
   "metadata": {},
   "outputs": [
    {
     "name": "stdout",
     "output_type": "stream",
     "text": [
      "Enter the number: -1\n",
      "Wrong input entered\n"
     ]
    }
   ],
   "source": [
    "#ex: \n",
    "x=int(input('Enter the number: ')) \n",
    "try: #we used try..except to avoid AssertionError exception\n",
    "    assert x>0\n",
    "    print('You entered: ',x)\n",
    "except:\n",
    "    print('Wrong input entered')"
   ]
  },
  {
   "cell_type": "markdown",
   "metadata": {},
   "source": [
    "### 'return' statement\n",
    "This statement is used inside a function to return result from a function to the calling place.\n",
    "\n",
    "> return ( expression )\n",
    "\n",
    "If a function doesn't returns any value, no need to use return statement.\n"
   ]
  },
  {
   "cell_type": "code",
   "execution_count": null,
   "metadata": {},
   "outputs": [],
   "source": []
  }
 ],
 "metadata": {
  "kernelspec": {
   "display_name": "Python 3",
   "language": "python",
   "name": "python3"
  },
  "language_info": {
   "codemirror_mode": {
    "name": "ipython",
    "version": 3
   },
   "file_extension": ".py",
   "mimetype": "text/x-python",
   "name": "python",
   "nbconvert_exporter": "python",
   "pygments_lexer": "ipython3",
   "version": "3.8.6"
  }
 },
 "nbformat": 4,
 "nbformat_minor": 5
}
