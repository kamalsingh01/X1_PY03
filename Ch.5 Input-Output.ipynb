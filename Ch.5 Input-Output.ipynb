{
 "cells": [
  {
   "cell_type": "markdown",
   "metadata": {},
   "source": [
    "# Output Statement\n",
    "\n",
    "To display output on screen, python provides an inbuilt funtion called <b>print()</b>"
   ]
  },
  {
   "cell_type": "code",
   "execution_count": 1,
   "metadata": {},
   "outputs": [
    {
     "name": "stdout",
     "output_type": "stream",
     "text": [
      "\n"
     ]
    }
   ],
   "source": [
    "#blank print, also called simply, throws cursor to new line\n",
    "\n",
    "print()"
   ]
  },
  {
   "cell_type": "code",
   "execution_count": 2,
   "metadata": {},
   "outputs": [
    {
     "name": "stdout",
     "output_type": "stream",
     "text": [
      "\n"
     ]
    },
    {
     "data": {
      "text/plain": [
       "NoneType"
      ]
     },
     "execution_count": 2,
     "metadata": {},
     "output_type": "execute_result"
    }
   ],
   "source": [
    "#print returns a None type object\n",
    "\n",
    "type(print())"
   ]
  },
  {
   "cell_type": "code",
   "execution_count": 3,
   "metadata": {},
   "outputs": [
    {
     "name": "stdout",
     "output_type": "stream",
     "text": [
      "2\n",
      "None\n"
     ]
    }
   ],
   "source": [
    "print(print(2))"
   ]
  },
  {
   "cell_type": "code",
   "execution_count": 4,
   "metadata": {},
   "outputs": [
    {
     "name": "stdout",
     "output_type": "stream",
     "text": [
      "kamal\n",
      "None\n"
     ]
    }
   ],
   "source": [
    "print(print('kamal'))"
   ]
  },
  {
   "cell_type": "markdown",
   "metadata": {},
   "source": [
    "### print('string')\n",
    "\n",
    "any string passed to the print() function prints as it is on the console."
   ]
  },
  {
   "cell_type": "code",
   "execution_count": 5,
   "metadata": {},
   "outputs": [
    {
     "name": "stdout",
     "output_type": "stream",
     "text": [
      "kamal\n"
     ]
    }
   ],
   "source": [
    "print('kamal')"
   ]
  },
  {
   "cell_type": "code",
   "execution_count": 6,
   "metadata": {},
   "outputs": [
    {
     "name": "stdout",
     "output_type": "stream",
     "text": [
      "kamal Singh\n"
     ]
    }
   ],
   "source": [
    "print('kamal Singh')"
   ]
  },
  {
   "cell_type": "code",
   "execution_count": 7,
   "metadata": {},
   "outputs": [
    {
     "name": "stdout",
     "output_type": "stream",
     "text": [
      "kamal\tsingh\n",
      "kamal\n",
      "singh\n",
      "kamal\\singh\n"
     ]
    }
   ],
   "source": [
    "#putting escape characters\n",
    "\n",
    "print('kamal\\tsingh')\n",
    "print('kamal\\nsingh')\n",
    "print('kamal\\\\singh')"
   ]
  },
  {
   "cell_type": "markdown",
   "metadata": {},
   "source": [
    "We can also include escape characters in the string as:"
   ]
  },
  {
   "cell_type": "code",
   "execution_count": 8,
   "metadata": {},
   "outputs": [
    {
     "name": "stdout",
     "output_type": "stream",
     "text": [
      "hello\\tkamal\n",
      "hello\\nkamal\n",
      "hello\\\\kamal\n"
     ]
    }
   ],
   "source": [
    "print(r'hello\\tkamal')\n",
    "print(r'hello\\nkamal')\n",
    "print(r'hello\\\\kamal')"
   ]
  },
  {
   "cell_type": "code",
   "execution_count": 9,
   "metadata": {},
   "outputs": [
    {
     "name": "stdout",
     "output_type": "stream",
     "text": [
      "hello\\tkamal\n",
      "hello\\nkamal\n",
      "hello\\kamal\n"
     ]
    }
   ],
   "source": [
    "print('hello\\\\tkamal')\n",
    "print('hello\\\\nkamal')\n",
    "print('hello\\\\kamal')"
   ]
  },
  {
   "cell_type": "code",
   "execution_count": 10,
   "metadata": {},
   "outputs": [
    {
     "name": "stdout",
     "output_type": "stream",
     "text": [
      "kamalkamalkamal\n"
     ]
    }
   ],
   "source": [
    "#using repitition operator\n",
    "\n",
    "print(3*'kamal')"
   ]
  },
  {
   "cell_type": "code",
   "execution_count": 11,
   "metadata": {},
   "outputs": [
    {
     "name": "stdout",
     "output_type": "stream",
     "text": [
      "city= Coimbatore\n"
     ]
    }
   ],
   "source": [
    "#using addition operator\n",
    "\n",
    "print('city=','Coimbatore')"
   ]
  },
  {
   "cell_type": "code",
   "execution_count": 12,
   "metadata": {},
   "outputs": [
    {
     "name": "stdout",
     "output_type": "stream",
     "text": [
      "city Pune\n"
     ]
    }
   ],
   "source": [
    "#using comma\n",
    "\n",
    "print('city '+'Pune')"
   ]
  },
  {
   "cell_type": "markdown",
   "metadata": {},
   "source": [
    "### print('variable-list')"
   ]
  },
  {
   "cell_type": "code",
   "execution_count": 14,
   "metadata": {},
   "outputs": [],
   "source": [
    "a,b,c=1,'kamal',2.5"
   ]
  },
  {
   "cell_type": "code",
   "execution_count": 15,
   "metadata": {},
   "outputs": [
    {
     "name": "stdout",
     "output_type": "stream",
     "text": [
      "1 kamal 2.5\n"
     ]
    }
   ],
   "source": [
    "print(a,b,c)"
   ]
  },
  {
   "cell_type": "markdown",
   "metadata": {},
   "source": [
    "#### use of 'sep' attribute\n",
    "\n",
    "By default values are seperated by space,but to sepearte variable with any other character we use 'sep'(sepeartor) attribute.It works with any number of characters. FORMAT:\n",
    "\n",
    "> print(variable-list,sep='characters')\n",
    "\n",
    "we can use string of charcter too"
   ]
  },
  {
   "cell_type": "code",
   "execution_count": 20,
   "metadata": {},
   "outputs": [
    {
     "name": "stdout",
     "output_type": "stream",
     "text": [
      "1kamal\n"
     ]
    }
   ],
   "source": [
    "print(a,b,sep='') #no space in between"
   ]
  },
  {
   "cell_type": "code",
   "execution_count": 21,
   "metadata": {},
   "outputs": [
    {
     "name": "stdout",
     "output_type": "stream",
     "text": [
      "1,kamal,2.5\n"
     ]
    }
   ],
   "source": [
    "print(a,b,c,sep=',')"
   ]
  },
  {
   "cell_type": "code",
   "execution_count": 22,
   "metadata": {},
   "outputs": [
    {
     "name": "stdout",
     "output_type": "stream",
     "text": [
      "1kamalkamalkamal2.5\n"
     ]
    }
   ],
   "source": [
    "print(a,b,c,sep='kamal')"
   ]
  },
  {
   "cell_type": "code",
   "execution_count": 23,
   "metadata": {},
   "outputs": [
    {
     "ename": "TypeError",
     "evalue": "sep must be None or a string, not int",
     "output_type": "error",
     "traceback": [
      "\u001b[1;31m---------------------------------------------------------------------------\u001b[0m",
      "\u001b[1;31mTypeError\u001b[0m                                 Traceback (most recent call last)",
      "\u001b[1;32m<ipython-input-23-27b9823c0e5b>\u001b[0m in \u001b[0;36m<module>\u001b[1;34m\u001b[0m\n\u001b[0;32m      1\u001b[0m \u001b[1;31m#only str object is allowed with sep\u001b[0m\u001b[1;33m\u001b[0m\u001b[1;33m\u001b[0m\u001b[1;33m\u001b[0m\u001b[0m\n\u001b[1;32m----> 2\u001b[1;33m \u001b[0mprint\u001b[0m\u001b[1;33m(\u001b[0m\u001b[0ma\u001b[0m\u001b[1;33m,\u001b[0m\u001b[0mb\u001b[0m\u001b[1;33m,\u001b[0m\u001b[0mc\u001b[0m\u001b[1;33m,\u001b[0m\u001b[0msep\u001b[0m\u001b[1;33m=\u001b[0m\u001b[1;36m2\u001b[0m\u001b[1;33m)\u001b[0m\u001b[1;33m\u001b[0m\u001b[1;33m\u001b[0m\u001b[0m\n\u001b[0m",
      "\u001b[1;31mTypeError\u001b[0m: sep must be None or a string, not int"
     ]
    }
   ],
   "source": [
    "#only str object is allowed with sep\n",
    "print(a,b,c,sep=2)"
   ]
  },
  {
   "cell_type": "markdown",
   "metadata": {},
   "source": [
    "#### use of 'end' attribute\n",
    "To get multiple print() function output in one single line with specified charcters in between we use 'end' attribute.FORMAT\n",
    "\n",
    "print(content,end='characters')\\\n",
    "\n",
    "character represents ending character of the line. Anything we put inside end attribute is printed after each line.\n",
    "\n",
    "end attribute has '\\n' as its default value"
   ]
  },
  {
   "cell_type": "code",
   "execution_count": 24,
   "metadata": {},
   "outputs": [
    {
     "name": "stdout",
     "output_type": "stream",
     "text": [
      "Hello\n",
      "kamal\n",
      "How are you?\n"
     ]
    }
   ],
   "source": [
    "#wihtout end attribute\n",
    "print('Hello')\n",
    "print('kamal')\n",
    "print('How are you?')"
   ]
  },
  {
   "cell_type": "code",
   "execution_count": 25,
   "metadata": {},
   "outputs": [
    {
     "name": "stdout",
     "output_type": "stream",
     "text": [
      "hello kamal How are you? "
     ]
    }
   ],
   "source": [
    "#with end attribute\n",
    "print('hello',end=' ')\n",
    "print('kamal',end=' ')\n",
    "print('How are you?',end=' ')\n"
   ]
  },
  {
   "cell_type": "code",
   "execution_count": 26,
   "metadata": {},
   "outputs": [
    {
     "name": "stdout",
     "output_type": "stream",
     "text": [
      "hello##kamal##How are you?##"
     ]
    }
   ],
   "source": [
    "#with special charcter in end\n",
    "\n",
    "print('hello',end='##')\n",
    "print('kamal',end='##')\n",
    "print('How are you?',end='##')"
   ]
  },
  {
   "cell_type": "markdown",
   "metadata": {},
   "source": [
    "above code can also be written with sep attribute but we can see that with end charcter is added after each string but with sep characters only comes between the variables strings"
   ]
  },
  {
   "cell_type": "code",
   "execution_count": 27,
   "metadata": {},
   "outputs": [
    {
     "name": "stdout",
     "output_type": "stream",
     "text": [
      "hello##kamal##how are you?\n"
     ]
    }
   ],
   "source": [
    "print('hello','kamal','how are you?',sep='##')"
   ]
  },
  {
   "cell_type": "markdown",
   "metadata": {},
   "source": [
    "#### use of 'flush' argument\n",
    "\n",
    "The I/Os in python are generally buffered, meaning they are used in chunks. This is where flush comes in as it helps users to decide if they need the written content to be buffered or not. By default, it is set to false. If it is set to true, the output will be written as a sequence of characters one after the other. This process is slow simply because it is easier to write in chunks rather than writing one character at a time."
   ]
  },
  {
   "cell_type": "code",
   "execution_count": 93,
   "metadata": {},
   "outputs": [
    {
     "name": "stdout",
     "output_type": "stream",
     "text": [
      "3>>>2>>>1>>>Start\n"
     ]
    }
   ],
   "source": [
    "import time\n",
    " \n",
    "count_seconds = 3\n",
    "for i in reversed(range(count_seconds + 1)):\n",
    "    if i > 0:\n",
    "        print(i, end='>>>')\n",
    "        time.sleep(1)\n",
    "    else:\n",
    "        print('Start')"
   ]
  },
  {
   "cell_type": "code",
   "execution_count": 94,
   "metadata": {},
   "outputs": [
    {
     "name": "stdout",
     "output_type": "stream",
     "text": [
      "3>>>2>>>1>>>Start\n"
     ]
    }
   ],
   "source": [
    "import time\n",
    " \n",
    "count_seconds = 3\n",
    "for i in reversed(range(count_seconds + 1)):\n",
    "    if i > 0:\n",
    "        print(i, end='>>>', flush = True)\n",
    "        time.sleep(1)\n",
    "    else:\n",
    "        print('Start')"
   ]
  },
  {
   "cell_type": "markdown",
   "metadata": {},
   "source": [
    "#### print(object)\n",
    "\n",
    "we can pass objects like <b>lists,tuples,dictionaries or any other object</b> to print() function elements in the object.\n",
    "\n",
    "elements of the objects like <b> range,bytes,bytearray </b> cannot be directly printed using print() function,they can be accessd only by using for loop"
   ]
  },
  {
   "cell_type": "code",
   "execution_count": 31,
   "metadata": {},
   "outputs": [
    {
     "name": "stdout",
     "output_type": "stream",
     "text": [
      "[1, 2.5, 'sam'] ('kumar', (2+6.7j)) {1: 'one', 2: 'second', 3: 'teen'}\n",
      "[1, 2.5, 'sam']\t('kumar', (2+6.7j))\t{1: 'one', 2: 'second', 3: 'teen'}\n"
     ]
    }
   ],
   "source": [
    "l=[1,2.5,'sam']\n",
    "t=('kumar',2+6.7j)\n",
    "d={1:'one',2:'second',3:'teen'}\n",
    "print(l,t,d)\n",
    "print(l,t,d,sep='\\t')"
   ]
  },
  {
   "cell_type": "code",
   "execution_count": 32,
   "metadata": {},
   "outputs": [
    {
     "name": "stdout",
     "output_type": "stream",
     "text": [
      "range(0, 10)\n",
      "b'\\x00\\x00\\x00\\x00\\x00\\x00\\x00\\x00\\x00\\x00'\n",
      "bytearray(b'\\x00\\x00\\x00\\x00\\x00\\x00\\x00\\x00\\x00\\x00')\n"
     ]
    }
   ],
   "source": [
    "r=range(10)\n",
    "b=bytes(10)\n",
    "ba=bytearray(10)\n",
    "print(r,b,ba,sep='\\n')"
   ]
  },
  {
   "cell_type": "markdown",
   "metadata": {},
   "source": [
    "#### print('string', variable-list)\n",
    "\n",
    "using print() function to display strings and data in variables alongside"
   ]
  },
  {
   "cell_type": "code",
   "execution_count": 39,
   "metadata": {},
   "outputs": [],
   "source": [
    "a,b,c,d = 5.102,8,'kamal',[1,2,(2,4)]"
   ]
  },
  {
   "cell_type": "code",
   "execution_count": 40,
   "metadata": {},
   "outputs": [
    {
     "data": {
      "text/plain": [
       "[1, 2, (2, 4)]"
      ]
     },
     "execution_count": 40,
     "metadata": {},
     "output_type": "execute_result"
    }
   ],
   "source": [
    "d"
   ]
  },
  {
   "cell_type": "code",
   "execution_count": 41,
   "metadata": {},
   "outputs": [
    {
     "name": "stdout",
     "output_type": "stream",
     "text": [
      "array= [1, 2, (2, 4)]\n"
     ]
    }
   ],
   "source": [
    "print('array=',d)"
   ]
  },
  {
   "cell_type": "code",
   "execution_count": 42,
   "metadata": {},
   "outputs": [
    {
     "name": "stdout",
     "output_type": "stream",
     "text": [
      "all the elements:\t5.102\t8\tkamal\t[1, 2, (2, 4)]\n"
     ]
    }
   ],
   "source": [
    "print('all the elements:',a,b,c,d,sep='\\t')"
   ]
  },
  {
   "cell_type": "code",
   "execution_count": 43,
   "metadata": {},
   "outputs": [
    {
     "ename": "TypeError",
     "evalue": "can only concatenate str (not \"int\") to str",
     "output_type": "error",
     "traceback": [
      "\u001b[1;31m---------------------------------------------------------------------------\u001b[0m",
      "\u001b[1;31mTypeError\u001b[0m                                 Traceback (most recent call last)",
      "\u001b[1;32m<ipython-input-43-64718b40aff4>\u001b[0m in \u001b[0;36m<module>\u001b[1;34m\u001b[0m\n\u001b[1;32m----> 1\u001b[1;33m \u001b[0mprint\u001b[0m\u001b[1;33m(\u001b[0m\u001b[1;34m'kamal'\u001b[0m\u001b[1;33m+\u001b[0m\u001b[1;36m2\u001b[0m\u001b[1;33m)\u001b[0m\u001b[1;33m\u001b[0m\u001b[1;33m\u001b[0m\u001b[0m\n\u001b[0m",
      "\u001b[1;31mTypeError\u001b[0m: can only concatenate str (not \"int\") to str"
     ]
    }
   ],
   "source": [
    "print('kamal'+2)"
   ]
  },
  {
   "cell_type": "code",
   "execution_count": 45,
   "metadata": {},
   "outputs": [
    {
     "name": "stdout",
     "output_type": "stream",
     "text": [
      "kamal2like\n"
     ]
    }
   ],
   "source": [
    "print('kamal'+'2'+'like')"
   ]
  },
  {
   "cell_type": "markdown",
   "metadata": {},
   "source": [
    "### print(formatted strings)\n",
    "\n",
    "Formatted output is displayed as per user's choice. A special character <b>string modulus(%)</b> is used for the special purpose. Similiar to scanf() in C.\n",
    "\n",
    "It joins a string with a varuiable or value. FORMAT:\n",
    "\n",
    "> print(\"Formatted string\" % (variable-list) )\n",
    "\n",
    "   Type Specifier\n",
    "   \n",
    "       %i or %d = integer | %f = float\n",
    "       %s = string | %c = character"
   ]
  },
  {
   "cell_type": "code",
   "execution_count": 46,
   "metadata": {},
   "outputs": [
    {
     "name": "stdout",
     "output_type": "stream",
     "text": [
      "number-1 = 7936894\n",
      "number-2 = 7936894\n"
     ]
    }
   ],
   "source": [
    "num1=7936894\n",
    "print(\"number-1 = %i\"%num1)\n",
    "print(\"number-2 = %d\"%num1)"
   ]
  },
  {
   "cell_type": "code",
   "execution_count": 47,
   "metadata": {},
   "outputs": [
    {
     "name": "stdout",
     "output_type": "stream",
     "text": [
      "integer = 2 and float = 3.564000\n"
     ]
    }
   ],
   "source": [
    "x,y = 2,3.564\n",
    "\n",
    "print('integer = %i and float = %f'%(x,y))"
   ]
  },
  {
   "cell_type": "code",
   "execution_count": 48,
   "metadata": {},
   "outputs": [
    {
     "name": "stdout",
     "output_type": "stream",
     "text": [
      "myname is kamal\n"
     ]
    }
   ],
   "source": [
    "name='kamal'\n",
    "print('myname is %s'%name)"
   ]
  },
  {
   "cell_type": "code",
   "execution_count": 50,
   "metadata": {},
   "outputs": [
    {
     "name": "stdout",
     "output_type": "stream",
     "text": [
      "a , l\n"
     ]
    }
   ],
   "source": [
    "#printing charcater\n",
    "print('%c , %c'%(name[1],name[4]))"
   ]
  },
  {
   "cell_type": "code",
   "execution_count": 52,
   "metadata": {},
   "outputs": [
    {
     "name": "stdout",
     "output_type": "stream",
     "text": [
      "Sliced kam\n"
     ]
    }
   ],
   "source": [
    "#printing sliced string\n",
    "print('Sliced %s'%name[0:3])"
   ]
  },
  {
   "cell_type": "code",
   "execution_count": 54,
   "metadata": {},
   "outputs": [
    {
     "name": "stdout",
     "output_type": "stream",
     "text": [
      "num= %f 12345.789312\n",
      "num= 12345.789312\n"
     ]
    }
   ],
   "source": [
    "#dealing with float\n",
    "\n",
    "num = 12345.789312\n",
    "print('num= %f',num)\n",
    "print('num= %f'%num)"
   ]
  },
  {
   "cell_type": "code",
   "execution_count": 95,
   "metadata": {},
   "outputs": [
    {
     "name": "stdout",
     "output_type": "stream",
     "text": [
      "Geeks :  1, Portal :  5.33\n"
     ]
    }
   ],
   "source": [
    "print(\"Geeks : %2d, Portal : %5.2f\" % (1, 05.333))"
   ]
  },
  {
   "cell_type": "markdown",
   "metadata": {},
   "source": [
    "    The first placeholder “%2d” is used for the first component of our tuple, i.e. the integer 1. The number will be printed with 2 characters. As 1 consists only of one digit, the output is padded with 1 leading blanks.\n",
    "    The second one “%5.2f” is a format description for a float number. Like other placeholders, it is introduced with the % character. This is followed by the total number of digits the string should contain. This number includes the decimal point and all the digits, i.e. before and after the decimal point.\n",
    "    Our float number 05.333 has to be formatted with 5 characters. The decimal part of the number or the precision is set to 2, i.e. the number following the “.” in our placeholder. Finally, the last character “f” of our placeholder stands for “float”"
   ]
  },
  {
   "cell_type": "code",
   "execution_count": 103,
   "metadata": {},
   "outputs": [
    {
     "name": "stdout",
     "output_type": "stream",
     "text": [
      "Geeks : 12, Portal :    0.55\n"
     ]
    }
   ],
   "source": [
    "print(\"Geeks :{0:3d}, Portal :{1:8.2f}\".\n",
    "      format(12, 00.546))\n",
    "\n",
    "#with 3d we have extra space before 12"
   ]
  },
  {
   "attachments": {
    "formatedOutput2-min-1.png": {
     "image/png": "[encoded data removed]"
    }
   },
   "cell_type": "markdown",
   "metadata": {},
   "source": [
    "![formatedOutput2-min-1.png](attachment:formatedOutput2-min-1.png)"
   ]
  },
  {
   "cell_type": "code",
   "execution_count": 97,
   "metadata": {},
   "outputs": [
    {
     "name": "stdout",
     "output_type": "stream",
     "text": [
      "num=   12345.79\n"
     ]
    }
   ],
   "source": [
    "print(\"num= %10.2f\"%num) \n",
    "#10 represents 10 blocks before decimal and 2 represents printing upto two digits after decimal"
   ]
  },
  {
   "cell_type": "markdown",
   "metadata": {},
   "source": [
    "We can also use replacement fields enclosed by pair of curly braces.\n",
    "\n",
    "We can mention names or indexes in replacement fields which represents order of the values.\n",
    "\n",
    "FORMAT: \n",
    "\n",
    "> print( 'formatted string with replacement fields' . format(values/variables))"
   ]
  },
  {
   "cell_type": "code",
   "execution_count": 58,
   "metadata": {},
   "outputs": [],
   "source": [
    "a,b,c,d=5,7.82,'gwwggww',[1,5.8,2+3j]\n",
    "n1,n2,n3=4,7,2"
   ]
  },
  {
   "cell_type": "code",
   "execution_count": 59,
   "metadata": {},
   "outputs": [
    {
     "name": "stdout",
     "output_type": "stream",
     "text": [
      "a=5 b=7.82 c=gwwggww d=[1, 5.8, (2+3j)]\n"
     ]
    }
   ],
   "source": [
    "print('a={0} b={1} c={2} d={3}'.format(a,b,c,d))"
   ]
  },
  {
   "cell_type": "code",
   "execution_count": 60,
   "metadata": {},
   "outputs": [
    {
     "name": "stdout",
     "output_type": "stream",
     "text": [
      "n1=4 n2=7 n3=2\n"
     ]
    }
   ],
   "source": [
    "# we if we do not give the indexes,compiler automatically considers it\n",
    "\n",
    "print('n1={} n2={} n3={}'.format(n1,n2,n3))"
   ]
  },
  {
   "cell_type": "code",
   "execution_count": 61,
   "metadata": {},
   "outputs": [
    {
     "name": "stdout",
     "output_type": "stream",
     "text": [
      "n1=2 n2=7 n3=4\n"
     ]
    }
   ],
   "source": [
    "#we can interchange the indesex to interchange values\n",
    "print('n1={2} n2={1} n3={0}'.format(n1,n2,n3)) "
   ]
  },
  {
   "cell_type": "code",
   "execution_count": 62,
   "metadata": {},
   "outputs": [
    {
     "name": "stdout",
     "output_type": "stream",
     "text": [
      "a=5 b=7.82 c=gwwggww d=[1, 5.8, (2+3j)]\n"
     ]
    }
   ],
   "source": [
    "# we can also provide a name to the values and can use it as indexes\n",
    "print('a={one} b={two} c={three} d={four}'.format(one=a,two=b,three=c,four=d))\n"
   ]
  },
  {
   "cell_type": "code",
   "execution_count": 63,
   "metadata": {},
   "outputs": [
    {
     "name": "stdout",
     "output_type": "stream",
     "text": [
      "Kamal has salary of 78000 with an experience of 5 years: \n"
     ]
    }
   ],
   "source": [
    "name,salary,exp='Kamal',78000,5\n",
    "print('{0} has salary of {1} with an experience of {2} years: '.format((name),salary,exp))"
   ]
  },
  {
   "cell_type": "code",
   "execution_count": 64,
   "metadata": {},
   "outputs": [
    {
     "name": "stdout",
     "output_type": "stream",
     "text": [
      "KamalKamalKamal has salary of 78000 with an experience of 5 years: \n"
     ]
    }
   ],
   "source": [
    "# we can use repition operator on the values\n",
    "name,salary,exp='Kamal',78000,5\n",
    "print('{0} has salary of {1} with an experience of {2} years: '.format((3*name),salary,exp))"
   ]
  },
  {
   "cell_type": "code",
   "execution_count": 65,
   "metadata": {},
   "outputs": [
    {
     "name": "stdout",
     "output_type": "stream",
     "text": [
      "Kamal has salary of 6084000000 with an experience of 5 years: \n"
     ]
    }
   ],
   "source": [
    "#we can aslo apply any arithematic opeartor on the value\n",
    "name,salary,exp='Kamal',78000,5\n",
    "print('{0} has salary of {1} with an experience of {2} years: '.format((name),(salary**2),exp))"
   ]
  },
  {
   "cell_type": "code",
   "execution_count": 98,
   "metadata": {},
   "outputs": [
    {
     "name": "stdout",
     "output_type": "stream",
     "text": [
      "I love Geeks for \"Geeks!\"\n",
      "Geeks and Portal\n",
      "Portal and Geeks\n",
      "I love Geeks for \"Geeks!\"\n",
      "Geeks and Portal\n"
     ]
    }
   ],
   "source": [
    "print('I love {} for \"{}!\"'.format('Geeks', 'Geeks'))\n",
    " \n",
    "# using format() method and referring\n",
    "# a position of the object\n",
    "print('{0} and {1}'.format('Geeks', 'Portal'))\n",
    " \n",
    "print('{1} and {0}'.format('Geeks', 'Portal'))\n",
    " \n",
    " \n",
    "# the above formatting can also be done by using f-Strings\n",
    "# Although, this features work only with python 3.6 or above.\n",
    " \n",
    "print(f\"I love {'Geeks'} for \\\"{'Geeks'}!\\\"\")\n",
    " \n",
    "# using format() method and referring\n",
    "# a position of the object\n",
    "print(f\"{'Geeks'} and {'Portal'}\")"
   ]
  },
  {
   "cell_type": "code",
   "execution_count": 104,
   "metadata": {},
   "outputs": [
    {
     "name": "stdout",
     "output_type": "stream",
     "text": [
      "Geeks: 4127; For: 4098; Geeks: 8637678\n",
      "I love GeeksForGeeks computer Portal\n"
     ]
    }
   ],
   "source": [
    "tab = {'geeks': 4127, 'for': 4098, 'geek': 8637678}\n",
    " \n",
    "# using format() in dictionary\n",
    "print('Geeks: {0[geeks]:d}; For: {0[for]:d}; '\n",
    "    'Geeks: {0[geek]:d}'.format(tab))\n",
    " \n",
    "data = dict(fun =\"GeeksForGeeks\", adj =\"Portal\")\n",
    " \n",
    "# using format() in dictionary\n",
    "print(\"I love {fun} computer {adj}\".format(**data))"
   ]
  },
  {
   "cell_type": "code",
   "execution_count": 106,
   "metadata": {},
   "outputs": [
    {
     "name": "stdout",
     "output_type": "stream",
     "text": [
      "Center aligned string with fillchr: \n",
      "##########I love geeksforgeeks##########\n",
      "\n",
      "The left aligned string is : \n",
      "I love geeksforgeeks--------------------\n",
      "\n",
      "The right aligned string is : \n",
      "--------------------I love geeksforgeeks\n"
     ]
    }
   ],
   "source": [
    "#formatting using string method\n",
    "\n",
    "cstr = \"I love geeksforgeeks\"\n",
    "   \n",
    "# Printing the center aligned \n",
    "# string with fillchr\n",
    "print (\"Center aligned string with fillchr: \")\n",
    "print (cstr.center(40, '#'))\n",
    "\n",
    "print()\n",
    " \n",
    "# Printing the left aligned \n",
    "# string with \"-\" padding \n",
    "print (\"The left aligned string is : \")\n",
    "print (cstr.ljust(40, '-'))\n",
    "\n",
    "print()\n",
    " \n",
    "# Printing the right aligned string\n",
    "# with \"-\" padding \n",
    "print (\"The right aligned string is : \")\n",
    "print (cstr.rjust(40, '-'))"
   ]
  },
  {
   "cell_type": "markdown",
   "metadata": {},
   "source": [
    " "
   ]
  },
  {
   "cell_type": "markdown",
   "metadata": {},
   "source": [
    " "
   ]
  },
  {
   "cell_type": "markdown",
   "metadata": {},
   "source": [
    " "
   ]
  },
  {
   "cell_type": "markdown",
   "metadata": {},
   "source": [
    "# Input Statement\n",
    "\n",
    "Python provide input statement to take input from keyboard using input() function.\n",
    "\n",
    "> Note: input() takes value from keyboard and return a string object.\n",
    "\n",
    "1. When input() function executes program flow will be stopped until the user has given an input.\n",
    "2. The text or message display on the output screen to ask a user to enter input value is optional i.e. the prompt, will be printed on the screen is optional.\n",
    "3. Whatever you enter as input, input function convert it into a string. if you enter an integer value still input() function convert it into a string. You need to explicitly convert it into an integer in your code using typecasting. "
   ]
  },
  {
   "cell_type": "code",
   "execution_count": 66,
   "metadata": {},
   "outputs": [
    {
     "name": "stdout",
     "output_type": "stream",
     "text": [
      "23\n"
     ]
    }
   ],
   "source": [
    "a=input()"
   ]
  },
  {
   "cell_type": "code",
   "execution_count": 67,
   "metadata": {},
   "outputs": [
    {
     "data": {
      "text/plain": [
       "str"
      ]
     },
     "execution_count": 67,
     "metadata": {},
     "output_type": "execute_result"
    }
   ],
   "source": [
    "type(a)"
   ]
  },
  {
   "cell_type": "code",
   "execution_count": 69,
   "metadata": {},
   "outputs": [
    {
     "name": "stdout",
     "output_type": "stream",
     "text": [
      " Enter the number: 234.5\n",
      "Output: 234.5\n"
     ]
    }
   ],
   "source": [
    "#taking input with message\n",
    "\n",
    "num1=input(\"Enter the number: \")\n",
    "print('Output: %s'%num1)"
   ]
  },
  {
   "cell_type": "code",
   "execution_count": 72,
   "metadata": {},
   "outputs": [
    {
     "name": "stdout",
     "output_type": "stream",
     "text": [
      "Enter the number: 67\n",
      "number:  67\n",
      "<class 'int'>\n",
      "enter Number: 56.78\n"
     ]
    },
    {
     "ename": "ValueError",
     "evalue": "invalid literal for int() with base 10: '56.78'",
     "output_type": "error",
     "traceback": [
      "\u001b[1;31m---------------------------------------------------------------------------\u001b[0m",
      "\u001b[1;31mValueError\u001b[0m                                Traceback (most recent call last)",
      "\u001b[1;32m<ipython-input-72-1583e26bc129>\u001b[0m in \u001b[0;36m<module>\u001b[1;34m\u001b[0m\n\u001b[0;32m      6\u001b[0m \u001b[1;33m\u001b[0m\u001b[0m\n\u001b[0;32m      7\u001b[0m \u001b[1;31m#another way:\u001b[0m\u001b[1;33m\u001b[0m\u001b[1;33m\u001b[0m\u001b[1;33m\u001b[0m\u001b[0m\n\u001b[1;32m----> 8\u001b[1;33m \u001b[0mx\u001b[0m\u001b[1;33m=\u001b[0m\u001b[0mint\u001b[0m\u001b[1;33m(\u001b[0m\u001b[0minput\u001b[0m\u001b[1;33m(\u001b[0m\u001b[1;34m'enter Number: '\u001b[0m\u001b[1;33m)\u001b[0m\u001b[1;33m)\u001b[0m\u001b[1;33m\u001b[0m\u001b[1;33m\u001b[0m\u001b[0m\n\u001b[0m\u001b[0;32m      9\u001b[0m \u001b[0mprint\u001b[0m\u001b[1;33m(\u001b[0m\u001b[1;34m'number: '\u001b[0m\u001b[1;33m,\u001b[0m\u001b[0mx\u001b[0m\u001b[1;33m)\u001b[0m\u001b[1;33m\u001b[0m\u001b[1;33m\u001b[0m\u001b[0m\n\u001b[0;32m     10\u001b[0m \u001b[0mprint\u001b[0m\u001b[1;33m(\u001b[0m\u001b[0mtype\u001b[0m\u001b[1;33m(\u001b[0m\u001b[0mx\u001b[0m\u001b[1;33m)\u001b[0m\u001b[1;33m)\u001b[0m\u001b[1;33m\u001b[0m\u001b[1;33m\u001b[0m\u001b[0m\n",
      "\u001b[1;31mValueError\u001b[0m: invalid literal for int() with base 10: '56.78'"
     ]
    }
   ],
   "source": [
    "#taking integer input\n",
    "str1=input('Enter the number: ')\n",
    "x=int(str1) #typecasting\n",
    "print(\"number: \",x)\n",
    "print(type(x))\n",
    "\n",
    "#another way: \n",
    "x=int(input('enter Number: '))\n",
    "print('number: ',x)\n",
    "print(type(x))"
   ]
  },
  {
   "cell_type": "code",
   "execution_count": 74,
   "metadata": {},
   "outputs": [
    {
     "name": "stdout",
     "output_type": "stream",
     "text": [
      "Enter the number: 78\n",
      "number:  78.0\n",
      "<class 'float'>\n"
     ]
    }
   ],
   "source": [
    "#taking float input\n",
    "x=float(input(\"Enter the number: \"))\n",
    "print('number: ',x)\n",
    "print(type(x))"
   ]
  },
  {
   "cell_type": "code",
   "execution_count": 75,
   "metadata": {},
   "outputs": [
    {
     "name": "stdout",
     "output_type": "stream",
     "text": [
      "Enter the string: kamal\n",
      "U entered:  kamal\n"
     ]
    }
   ],
   "source": [
    "#taking string input\n",
    "str1=input(\"Enter the string: \")\n",
    "print(\"U entered: \",str1)"
   ]
  },
  {
   "cell_type": "code",
   "execution_count": 77,
   "metadata": {},
   "outputs": [
    {
     "name": "stdout",
     "output_type": "stream",
     "text": [
      "Enter the character: 3\n",
      "U entered:  3\n",
      "Enter the character: 4f\n",
      "U entered:  4\n"
     ]
    }
   ],
   "source": [
    "#taking character input\n",
    "ch=input(\"Enter the character: \")\n",
    "print(\"U entered: \",ch)\n",
    "\n",
    "ch=input(\"Enter the character: \")\n",
    "print(\"U entered: \",ch[0])"
   ]
  },
  {
   "cell_type": "code",
   "execution_count": 78,
   "metadata": {},
   "outputs": [
    {
     "name": "stdout",
     "output_type": "stream",
     "text": [
      "Enter first number: 6\n",
      "Enter second number: 3\n",
      "U enterded: 6 3 \n",
      "sum:  9\n",
      "difference:  3\n",
      "multiply:  18\n",
      "division:  2.0\n",
      "exponential:  216\n"
     ]
    }
   ],
   "source": [
    "#accepting two numebers then opearting them\n",
    "\n",
    "x=int(input(\"Enter first number: \"))\n",
    "y=int(input(\"Enter second number: \"))\n",
    "print(\"U enterded: {} {} \".format(x,y))\n",
    "print(\"sum: \",(x+y))\n",
    "print(\"difference: \",(x-y))\n",
    "print(\"multiply: \",(x*y))\n",
    "print(\"division: \",(x/y))\n",
    "print(\"exponential: \",(x**y))"
   ]
  },
  {
   "cell_type": "markdown",
   "metadata": {},
   "source": [
    "### >>IMPORTANT:\n",
    "\n",
    "To accept multiple inputs in the same line,we use a for loop along with input() function enclosed within [] square brackets which indicates that the input accepted as elelost of elements.\n",
    "\n",
    "inputs are taken as string divided wherever space is found by split method.strings are contained in a list which further converted into required datatype.FORMAT: \n",
    "\n",
    ">split() method take the character by which the inputs are splitted when taking input. By default it is ' '. split() method by default splits values where a space is found.\n",
    "\n",
    "There are two ways by which we can take mutiple inputs:\n",
    "\n",
    "#### split() method\n",
    "\n",
    "> input().split(separator, maxsplit)"
   ]
  },
  {
   "cell_type": "code",
   "execution_count": 90,
   "metadata": {},
   "outputs": [
    {
     "name": "stdout",
     "output_type": "stream",
     "text": [
      "Enter two values: 2 3\n",
      "Number of boys:  2\n",
      "Number of girls:  3\n",
      "\n",
      "Enter two values: 2 3\n",
      "First number is 2 and second number is 3\n",
      "\n"
     ]
    }
   ],
   "source": [
    "x, y = input(\"Enter two values: \").split()\n",
    "print(\"Number of boys: \", x)\n",
    "print(\"Number of girls: \", y)\n",
    "print()\n",
    " \n",
    "\n",
    "# taking two inputs at a time\n",
    "a, b = input(\"Enter two values: \").split()\n",
    "print(\"First number is {} and second number is {}\".format(a, b))\n",
    "print()"
   ]
  },
  {
   "cell_type": "code",
   "execution_count": 82,
   "metadata": {},
   "outputs": [
    {
     "name": "stdout",
     "output_type": "stream",
     "text": [
      "Enter the elements: 1 2 3\n",
      "output:  6.0\n"
     ]
    }
   ],
   "source": [
    "#taking 3 space seperated integer values in a single line\n",
    "\n",
    "n1,n2,n3 =[int(x)*1.0 for x in input(\"Enter the elements: \").split()]\n",
    "print('output: ',(n1+n2+n3))"
   ]
  },
  {
   "cell_type": "code",
   "execution_count": 83,
   "metadata": {},
   "outputs": [
    {
     "name": "stdout",
     "output_type": "stream",
     "text": [
      "Enter the three names: kamal,singh,khanduja\n",
      "['kamal', 'singh', 'khanduja']\n",
      "3\n"
     ]
    }
   ],
   "source": [
    "#taking 3 comma seperated string elements and string them into a list\n",
    "\n",
    "lst=[x for x in input(\"Enter the three names: \").split(',')]\n",
    "print(lst)\n",
    "print(len(lst))"
   ]
  },
  {
   "cell_type": "markdown",
   "metadata": {},
   "source": [
    "#### eval() function\n",
    "\n",
    ">eval() function takes a string and evaluates the result of the string by taking it as a python expression.\n"
   ]
  },
  {
   "cell_type": "code",
   "execution_count": 84,
   "metadata": {},
   "outputs": [],
   "source": [
    "a,b=10.5, 5+3j\n",
    "result=eval('a+b-4')"
   ]
  },
  {
   "cell_type": "code",
   "execution_count": 85,
   "metadata": {},
   "outputs": [
    {
     "name": "stdout",
     "output_type": "stream",
     "text": [
      "(11.5+3j)\n"
     ]
    }
   ],
   "source": [
    "print(result)"
   ]
  },
  {
   "cell_type": "code",
   "execution_count": 86,
   "metadata": {},
   "outputs": [
    {
     "name": "stdout",
     "output_type": "stream",
     "text": [
      "kamalkamalkamal\n"
     ]
    }
   ],
   "source": [
    "#eval() function on string\n",
    "string='kamal'\n",
    "result=eval('3*string')\n",
    "print(result)"
   ]
  },
  {
   "cell_type": "code",
   "execution_count": 88,
   "metadata": {},
   "outputs": [
    {
     "name": "stdout",
     "output_type": "stream",
     "text": [
      "Enter the list: [1,2,3]\n",
      "List:  [1, 2, 3]\n",
      "<class 'list'>\n",
      "3\n"
     ]
    }
   ],
   "source": [
    "#combination of eval() and input() to accept list from keyboard: \n",
    "\n",
    "lst=eval(input(\"Enter the list: \"))\n",
    "print(\"List: \",lst)\n",
    "print(type(lst))\n",
    "print(len(lst))"
   ]
  },
  {
   "cell_type": "code",
   "execution_count": 89,
   "metadata": {},
   "outputs": [
    {
     "name": "stdout",
     "output_type": "stream",
     "text": [
      "Enter the list: 1,2,3\n",
      "List:  (1, 2, 3)\n",
      "<class 'tuple'>\n",
      "3\n"
     ]
    }
   ],
   "source": [
    "#if we do not give [] brackets while input, it takes it as tuple\n",
    "\n",
    "lst=eval(input(\"Enter the list: \"))\n",
    "print(\"List: \",lst)\n",
    "print(type(lst))\n",
    "print(len(lst))"
   ]
  },
  {
   "cell_type": "code",
   "execution_count": null,
   "metadata": {},
   "outputs": [],
   "source": []
  }
 ],
 "metadata": {
  "kernelspec": {
   "display_name": "Python 3",
   "language": "python",
   "name": "python3"
  },
  "language_info": {
   "codemirror_mode": {
    "name": "ipython",
    "version": 3
   },
   "file_extension": ".py",
   "mimetype": "text/x-python",
   "name": "python",
   "nbconvert_exporter": "python",
   "pygments_lexer": "ipython3",
   "version": "3.8.5"
  }
 },
 "nbformat": 4,
 "nbformat_minor": 4
}
