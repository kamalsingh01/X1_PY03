{
 "cells": [
  {
   "cell_type": "markdown",
   "metadata": {},
   "source": [
    "# String\n",
    "String is the sequence of Unicode characters.\n",
    "\n",
    "As string comprises characters, there is no seperate datatype for character in Python hence we use string collection to represent both character and collection of character.\n",
    "\n",
    "Strings are enclosed within single quotes(' ') and double quotes(\" \"). \n",
    "\n",
    "> 'str' datatype is used to represent string class objects.\n",
    "\n",
    "### String Creation\n",
    "This is done by assigning group of characters enclosed within single or double quotes to a variable."
   ]
  },
  {
   "cell_type": "code",
   "execution_count": 1,
   "metadata": {},
   "outputs": [
    {
     "name": "stdout",
     "output_type": "stream",
     "text": [
      "Hello! Welcome to Python\n"
     ]
    }
   ],
   "source": [
    "s1='Hello! Welcome to Python'\n",
    "print(s1)"
   ]
  },
  {
   "cell_type": "code",
   "execution_count": 2,
   "metadata": {},
   "outputs": [
    {
     "name": "stdout",
     "output_type": "stream",
     "text": [
      "<class 'str'>\n"
     ]
    }
   ],
   "source": [
    "print(type(s1))"
   ]
  },
  {
   "cell_type": "code",
   "execution_count": 3,
   "metadata": {},
   "outputs": [
    {
     "name": "stdout",
     "output_type": "stream",
     "text": [
      "Hello! Welcome to Python\n",
      "<class 'str'>\n"
     ]
    }
   ],
   "source": [
    "s2='Hello! Welcome to Python'\n",
    "print(s2)\n",
    "print(type(s2))"
   ]
  },
  {
   "cell_type": "markdown",
   "metadata": {},
   "source": [
    "We can use triple single quotes or triple double quotes when group of characters spans to multiple lines. This also represents string datatype."
   ]
  },
  {
   "cell_type": "code",
   "execution_count": 4,
   "metadata": {},
   "outputs": [
    {
     "name": "stdout",
     "output_type": "stream",
     "text": [
      "Hello!! Welcome \n",
      "to python world\n",
      "<class 'str'>\n"
     ]
    }
   ],
   "source": [
    "s3='''Hello!! Welcome \n",
    "to python world'''\n",
    "print(s3)\n",
    "print(type(s3))"
   ]
  },
  {
   "cell_type": "code",
   "execution_count": 5,
   "metadata": {},
   "outputs": [
    {
     "name": "stdout",
     "output_type": "stream",
     "text": [
      "Hello!! Welcome \n",
      "to python world\n",
      "<class 'str'>\n"
     ]
    }
   ],
   "source": [
    "s4=\"\"\"Hello!! Welcome \n",
    "to python world\"\"\"\n",
    "print(s4)\n",
    "print(type(s4))"
   ]
  },
  {
   "cell_type": "markdown",
   "metadata": {},
   "source": [
    "We can display quotation on a substring inside a string by using different type of quotes for inner and outer strings"
   ]
  },
  {
   "cell_type": "code",
   "execution_count": 6,
   "metadata": {},
   "outputs": [
    {
     "name": "stdout",
     "output_type": "stream",
     "text": [
      "Kamal is a \"good\" boy\n"
     ]
    }
   ],
   "source": [
    "st = 'Kamal is a \"good\" boy'\n",
    "print(st)"
   ]
  },
  {
   "cell_type": "code",
   "execution_count": 8,
   "metadata": {},
   "outputs": [
    {
     "name": "stdout",
     "output_type": "stream",
     "text": [
      "Kamal is a 'good' boy\n"
     ]
    }
   ],
   "source": [
    "st1 = \"Kamal is a 'good' boy\"\n",
    "print(st1)"
   ]
  },
  {
   "cell_type": "code",
   "execution_count": 9,
   "metadata": {},
   "outputs": [
    {
     "ename": "SyntaxError",
     "evalue": "invalid syntax (<ipython-input-9-fc5666148be4>, line 2)",
     "output_type": "error",
     "traceback": [
      "\u001b[1;36m  File \u001b[1;32m\"<ipython-input-9-fc5666148be4>\"\u001b[1;36m, line \u001b[1;32m2\u001b[0m\n\u001b[1;33m    st2 = 'kamal is a 'good' boy'\u001b[0m\n\u001b[1;37m                       ^\u001b[0m\n\u001b[1;31mSyntaxError\u001b[0m\u001b[1;31m:\u001b[0m invalid syntax\n"
     ]
    }
   ],
   "source": [
    "#we cannot use single quote within single quote\n",
    "st2 = 'kamal is a 'good' boy'"
   ]
  },
  {
   "cell_type": "code",
   "execution_count": 10,
   "metadata": {},
   "outputs": [
    {
     "name": "stdout",
     "output_type": "stream",
     "text": [
      "Kamal's car is \"good\" looking\n",
      "<class 'str'>\n"
     ]
    }
   ],
   "source": [
    "#we can use single and double quotes within triple quotes\n",
    "\n",
    "st4 = '''Kamal's car is \"good\" looking'''\n",
    "print(st4)\n",
    "print(type(st4))"
   ]
  },
  {
   "cell_type": "code",
   "execution_count": 16,
   "metadata": {},
   "outputs": [
    {
     "name": "stdout",
     "output_type": "stream",
     "text": [
      "using \"\\n\":  \n",
      " Hello\n",
      "kamal\n",
      "singh\n",
      "\n",
      "using '\\t' Hello\tkamal\tsingh\n"
     ]
    }
   ],
   "source": [
    "#using escape characters\n",
    "s='Hello\\nkamal\\nsingh'\n",
    "print(r'using \"\\n\": ','\\n',s)\n",
    "print()\n",
    "s='Hello\\tkamal\\tsingh'\n",
    "print(r\"using '\\t'\",s)"
   ]
  },
  {
   "cell_type": "code",
   "execution_count": 17,
   "metadata": {},
   "outputs": [
    {
     "name": "stdout",
     "output_type": "stream",
     "text": [
      "Welcome \\t kamal \\n Singh\n"
     ]
    }
   ],
   "source": [
    "#nullifying the effect of escape charaters\n",
    "s=r\"Welcome \\t kamal \\n Singh\"  #r makes it raw\n",
    "print(s) "
   ]
  },
  {
   "cell_type": "code",
   "execution_count": 18,
   "metadata": {},
   "outputs": [
    {
     "name": "stdout",
     "output_type": "stream",
     "text": [
      "कोर  पैथ।न\n"
     ]
    }
   ],
   "source": [
    "#creating string with unicode\n",
    "s_uni=u'\\u0915\\u094b\\u0930  \\u092a\\u0948\\u0925\\u0964\\u0928'\n",
    "print(s_uni)"
   ]
  },
  {
   "cell_type": "code",
   "execution_count": 19,
   "metadata": {},
   "outputs": [
    {
     "name": "stdout",
     "output_type": "stream",
     "text": [
      "Kamal's car is \"good\" looking\n",
      "29\n"
     ]
    }
   ],
   "source": [
    "#length of string objects using len() function.\n",
    "print(st4)\n",
    "print(len(st4))  "
   ]
  },
  {
   "cell_type": "markdown",
   "metadata": {},
   "source": [
    ">Spaces, single quotes and double quotes are also considered as charcters like alphabets and numbers."
   ]
  },
  {
   "cell_type": "code",
   "execution_count": 22,
   "metadata": {},
   "outputs": [
    {
     "name": "stdout",
     "output_type": "stream",
     "text": [
      "C\n",
      "O\n",
      "R\n",
      "E\n",
      " \n",
      "P\n",
      "Y\n",
      "T\n",
      "H\n",
      "O\n",
      "N\n"
     ]
    }
   ],
   "source": [
    "#iterating string\n",
    "stt = 'CORE PYTHON'\n",
    "for i in stt:\n",
    "    print(i)"
   ]
  },
  {
   "cell_type": "markdown",
   "metadata": {},
   "source": [
    "### Indexing in Python\n",
    "<b>1. Indexing in python starts from 0 to (len(string)-1).\n",
    "\n",
    "2.Indexing from right to left side of String starts from -1.</b>"
   ]
  },
  {
   "cell_type": "code",
   "execution_count": 28,
   "metadata": {},
   "outputs": [
    {
     "name": "stdout",
     "output_type": "stream",
     "text": [
      "CORE PYTHON\n",
      "C\n",
      "P\n",
      " \n",
      "T\n",
      "H\n",
      "C\n"
     ]
    }
   ],
   "source": [
    "print(stt)\n",
    "print(stt[0])\n",
    "print(stt[5])\n",
    "print(stt[-7])\n",
    "print(stt[7])\n",
    "print(stt[-3])\n",
    "print(stt[-len(stt)])"
   ]
  },
  {
   "cell_type": "code",
   "execution_count": 31,
   "metadata": {},
   "outputs": [
    {
     "name": "stdout",
     "output_type": "stream",
     "text": [
      "CORE PYTHON\n",
      "s[0] : C\n",
      "s[1] : O\n",
      "s[2] : R\n",
      "s[3] : E\n",
      "s[4] :  \n",
      "s[5] : P\n",
      "s[6] : Y\n",
      "s[7] : T\n",
      "s[8] : H\n",
      "s[9] : O\n",
      "s[10] : N\n"
     ]
    }
   ],
   "source": [
    "#accesing each character of string with loop using indexing\n",
    "print(stt)\n",
    "i=0\n",
    "while i<len(stt):\n",
    "    print(\"s[{}] : {}\".format(i,stt[i]))\n",
    "    i=i+1"
   ]
  },
  {
   "cell_type": "code",
   "execution_count": 34,
   "metadata": {},
   "outputs": [
    {
     "name": "stdout",
     "output_type": "stream",
     "text": [
      "s[10] : N\n",
      "s[9] : O\n",
      "s[8] : H\n",
      "s[7] : T\n",
      "s[6] : Y\n",
      "s[5] : P\n",
      "s[4] :  \n",
      "s[3] : E\n",
      "s[2] : R\n",
      "s[1] : O\n",
      "s[0] : C\n"
     ]
    }
   ],
   "source": [
    "#printing charcters in reverse order\n",
    "i=len(stt)-1\n",
    "while i>=0:\n",
    "    print(\"s[{}] : {}\".format(i,stt[i]))\n",
    "    i=i-1"
   ]
  },
  {
   "cell_type": "markdown",
   "metadata": {},
   "source": [
    "### Slicing in Python\n",
    "Slicing means extracting a part of peice of string.\n",
    "\n",
    "> string_name[ lower_bound, upper_bound, stepsize ]\n",
    "\n",
    "By default upperbound is 0 and lowerbound is len(string)-1 and if we do not give step size it takes defalt value 1. All three are alterable."
   ]
  },
  {
   "cell_type": "code",
   "execution_count": 36,
   "metadata": {},
   "outputs": [],
   "source": [
    "s=stt"
   ]
  },
  {
   "cell_type": "code",
   "execution_count": 38,
   "metadata": {},
   "outputs": [
    {
     "name": "stdout",
     "output_type": "stream",
     "text": [
      "CORE PYTHON\n"
     ]
    }
   ],
   "source": [
    "print(s)"
   ]
  },
  {
   "cell_type": "code",
   "execution_count": 39,
   "metadata": {},
   "outputs": [
    {
     "data": {
      "text/plain": [
       "'CORE PYTHON'"
      ]
     },
     "execution_count": 39,
     "metadata": {},
     "output_type": "execute_result"
    }
   ],
   "source": [
    "s[::]"
   ]
  },
  {
   "cell_type": "code",
   "execution_count": 40,
   "metadata": {},
   "outputs": [
    {
     "data": {
      "text/plain": [
       "'CR YHN'"
      ]
     },
     "execution_count": 40,
     "metadata": {},
     "output_type": "execute_result"
    }
   ],
   "source": [
    "s[::2]"
   ]
  },
  {
   "cell_type": "code",
   "execution_count": 42,
   "metadata": {},
   "outputs": [
    {
     "data": {
      "text/plain": [
       "'CORE P'"
      ]
     },
     "execution_count": 42,
     "metadata": {},
     "output_type": "execute_result"
    }
   ],
   "source": [
    "s[:6:]  #lb=0,ub=5,ss=1"
   ]
  },
  {
   "cell_type": "code",
   "execution_count": 43,
   "metadata": {},
   "outputs": [
    {
     "data": {
      "text/plain": [
       "'ORE P'"
      ]
     },
     "execution_count": 43,
     "metadata": {},
     "output_type": "execute_result"
    }
   ],
   "source": [
    "s[1:6]  #index 0 is ignored"
   ]
  },
  {
   "cell_type": "code",
   "execution_count": 44,
   "metadata": {},
   "outputs": [
    {
     "data": {
      "text/plain": [
       "'OEPTO'"
      ]
     },
     "execution_count": 44,
     "metadata": {},
     "output_type": "execute_result"
    }
   ],
   "source": [
    "s[1:len(s):2]"
   ]
  },
  {
   "cell_type": "code",
   "execution_count": 46,
   "metadata": {},
   "outputs": [
    {
     "data": {
      "text/plain": [
       "'NOHTYP EROC'"
      ]
     },
     "execution_count": 46,
     "metadata": {},
     "output_type": "execute_result"
    }
   ],
   "source": [
    "#reversing string\n",
    "\n",
    "s[::-1]"
   ]
  },
  {
   "cell_type": "code",
   "execution_count": 48,
   "metadata": {},
   "outputs": [
    {
     "data": {
      "text/plain": [
       "''"
      ]
     },
     "execution_count": 48,
     "metadata": {},
     "output_type": "execute_result"
    }
   ],
   "source": [
    "s[8:1:1]  #cannot go in reverse order with +ve step size"
   ]
  },
  {
   "cell_type": "code",
   "execution_count": 47,
   "metadata": {},
   "outputs": [
    {
     "data": {
      "text/plain": [
       "'HTYP ER'"
      ]
     },
     "execution_count": 47,
     "metadata": {},
     "output_type": "execute_result"
    }
   ],
   "source": [
    "s[8:1:-1]"
   ]
  },
  {
   "cell_type": "code",
   "execution_count": 55,
   "metadata": {},
   "outputs": [
    {
     "data": {
      "text/plain": [
       "'NHY RC'"
      ]
     },
     "execution_count": 55,
     "metadata": {},
     "output_type": "execute_result"
    }
   ],
   "source": [
    "s[len(s)::-2]  #goinf till end"
   ]
  },
  {
   "cell_type": "code",
   "execution_count": 56,
   "metadata": {},
   "outputs": [
    {
     "data": {
      "text/plain": [
       "'NHY R'"
      ]
     },
     "execution_count": 56,
     "metadata": {},
     "output_type": "execute_result"
    }
   ],
   "source": [
    "s[len(s):0:-2]"
   ]
  },
  {
   "cell_type": "code",
   "execution_count": 59,
   "metadata": {},
   "outputs": [
    {
     "data": {
      "text/plain": [
       "'THO'"
      ]
     },
     "execution_count": 59,
     "metadata": {},
     "output_type": "execute_result"
    }
   ],
   "source": [
    "s[-4:-1]  #lb=-1,ub=-1"
   ]
  },
  {
   "cell_type": "code",
   "execution_count": 60,
   "metadata": {},
   "outputs": [
    {
     "data": {
      "text/plain": [
       "'PYTHON'"
      ]
     },
     "execution_count": 60,
     "metadata": {},
     "output_type": "execute_result"
    }
   ],
   "source": [
    "s[-6::]"
   ]
  },
  {
   "cell_type": "code",
   "execution_count": 61,
   "metadata": {},
   "outputs": [
    {
     "data": {
      "text/plain": [
       "'NOHT'"
      ]
     },
     "execution_count": 61,
     "metadata": {},
     "output_type": "execute_result"
    }
   ],
   "source": [
    "s[-1:-5:-1]"
   ]
  },
  {
   "cell_type": "code",
   "execution_count": 62,
   "metadata": {},
   "outputs": [
    {
     "data": {
      "text/plain": [
       "''"
      ]
     },
     "execution_count": 62,
     "metadata": {},
     "output_type": "execute_result"
    }
   ],
   "source": [
    "s[-1:-6:1]  #cannot travel in reverse with +ve ss"
   ]
  },
  {
   "cell_type": "code",
   "execution_count": 65,
   "metadata": {},
   "outputs": [
    {
     "data": {
      "text/plain": [
       "'NPC'"
      ]
     },
     "execution_count": 65,
     "metadata": {},
     "output_type": "execute_result"
    }
   ],
   "source": [
    "s[-1::-5]"
   ]
  },
  {
   "cell_type": "markdown",
   "metadata": {},
   "source": [
    "### Exceptional Operations"
   ]
  },
  {
   "cell_type": "code",
   "execution_count": 67,
   "metadata": {},
   "outputs": [
    {
     "name": "stdout",
     "output_type": "stream",
     "text": [
      "kamakama\n"
     ]
    }
   ],
   "source": [
    "#repeatation of string\n",
    "\n",
    "print( \"kama\"*2)"
   ]
  },
  {
   "cell_type": "code",
   "execution_count": 68,
   "metadata": {},
   "outputs": [
    {
     "name": "stdout",
     "output_type": "stream",
     "text": [
      "Kamal Singh\n"
     ]
    }
   ],
   "source": [
    "#concatenation\n",
    "\n",
    "print( \"Kamal\" + \" \" + \"Singh\")"
   ]
  },
  {
   "cell_type": "code",
   "execution_count": 71,
   "metadata": {},
   "outputs": [
    {
     "name": "stdout",
     "output_type": "stream",
     "text": [
      "CORE PYTHON\n"
     ]
    },
    {
     "ename": "TypeError",
     "evalue": "can only concatenate str (not \"int\") to str",
     "output_type": "error",
     "traceback": [
      "\u001b[1;31m---------------------------------------------------------------------------\u001b[0m",
      "\u001b[1;31mTypeError\u001b[0m                                 Traceback (most recent call last)",
      "\u001b[1;32m<ipython-input-71-9c64597cda07>\u001b[0m in \u001b[0;36m<module>\u001b[1;34m\u001b[0m\n\u001b[0;32m      1\u001b[0m \u001b[0mprint\u001b[0m\u001b[1;33m(\u001b[0m\u001b[0ms\u001b[0m\u001b[1;33m)\u001b[0m\u001b[1;33m\u001b[0m\u001b[1;33m\u001b[0m\u001b[0m\n\u001b[1;32m----> 2\u001b[1;33m \u001b[0ms\u001b[0m\u001b[1;33m+\u001b[0m\u001b[1;36m36\u001b[0m\u001b[1;33m\u001b[0m\u001b[1;33m\u001b[0m\u001b[0m\n\u001b[0m\u001b[0;32m      3\u001b[0m \u001b[1;33m\u001b[0m\u001b[0m\n\u001b[0;32m      4\u001b[0m  \u001b[1;31m#for concatenation same data type object is required.\u001b[0m\u001b[1;33m\u001b[0m\u001b[1;33m\u001b[0m\u001b[1;33m\u001b[0m\u001b[0m\n",
      "\u001b[1;31mTypeError\u001b[0m: can only concatenate str (not \"int\") to str"
     ]
    }
   ],
   "source": [
    "print(s)\n",
    "s+36\n",
    "\n",
    " #for concatenation same data type object is required."
   ]
  },
  {
   "cell_type": "markdown",
   "metadata": {},
   "source": [
    "## Strings are Immutable: \n",
    "\n",
    "String is an immuatble object as we cannot perform any changes to the content. To change we have to typecast the string object to a mutable object.\n",
    "\n",
    "There are two reasons why strings are made muatble: \n",
    "\n",
    "#### 1. Performance\n",
    "\n",
    "As strings are immutable so a fixed memory space is allocated at the creation time for its elements,hence it takes compiler to allocate less memmory and acces the elements in less time,conseqquently increasing the performance.\n",
    "\n",
    "#### 2.Security\n",
    "\n",
    "If we make changes to the string,itwill create a new identity or the memory location of the object,hence signifies that data has been altered in the original data. It is useful in data transportations from one app to another without any modifications.\n",
    "\n",
    "> If we try to modify the elements of the string we will get a TYPEERROR error."
   ]
  },
  {
   "cell_type": "code",
   "execution_count": 72,
   "metadata": {},
   "outputs": [
    {
     "name": "stdout",
     "output_type": "stream",
     "text": [
      "hello\n"
     ]
    },
    {
     "ename": "TypeError",
     "evalue": "'str' object does not support item assignment",
     "output_type": "error",
     "traceback": [
      "\u001b[1;31m---------------------------------------------------------------------------\u001b[0m",
      "\u001b[1;31mTypeError\u001b[0m                                 Traceback (most recent call last)",
      "\u001b[1;32m<ipython-input-72-e2865004f9f8>\u001b[0m in \u001b[0;36m<module>\u001b[1;34m\u001b[0m\n\u001b[0;32m      1\u001b[0m \u001b[0msamp_str\u001b[0m\u001b[1;33m=\u001b[0m\u001b[1;34m'hello'\u001b[0m\u001b[1;33m\u001b[0m\u001b[1;33m\u001b[0m\u001b[0m\n\u001b[0;32m      2\u001b[0m \u001b[0mprint\u001b[0m\u001b[1;33m(\u001b[0m\u001b[0msamp_str\u001b[0m\u001b[1;33m)\u001b[0m\u001b[1;33m\u001b[0m\u001b[1;33m\u001b[0m\u001b[0m\n\u001b[1;32m----> 3\u001b[1;33m \u001b[0msamp_str\u001b[0m\u001b[1;33m[\u001b[0m\u001b[1;36m0\u001b[0m\u001b[1;33m]\u001b[0m\u001b[1;33m=\u001b[0m\u001b[1;34m'k'\u001b[0m\u001b[1;33m\u001b[0m\u001b[1;33m\u001b[0m\u001b[0m\n\u001b[0m",
      "\u001b[1;31mTypeError\u001b[0m: 'str' object does not support item assignment"
     ]
    }
   ],
   "source": [
    "samp_str='hello'\n",
    "print(samp_str)\n",
    "samp_str[0]='k'"
   ]
  },
  {
   "cell_type": "code",
   "execution_count": 76,
   "metadata": {},
   "outputs": [
    {
     "name": "stdout",
     "output_type": "stream",
     "text": [
      "kamal\n",
      "singh\n",
      "2117797749168\n",
      "2117796897520\n",
      "\n",
      " After changing references:\n",
      "\n",
      "singh\n",
      "singh\n",
      "2117796897520\n",
      "2117796897520\n",
      "id('kamal=') 2117797749168\n"
     ]
    }
   ],
   "source": [
    "s1='kamal'\n",
    "s2='singh'\n",
    "print(s1,s2,id(s1),id(s2),sep='\\n')\n",
    "\n",
    "s1=s2 #we are referencing 'hello' with s1 as well as s2 and object 'kamal' is left untouched\n",
    "\n",
    "print(\"\\n After changing references:\\n\")\n",
    "print(s1,s2,id(s1),id(s2),sep='\\n')\n",
    "\n",
    "print(\"id('kamal=')\",id('kamal'))"
   ]
  },
  {
   "cell_type": "markdown",
   "metadata": {},
   "source": [
    "### Checking membership\n",
    "We can check if a subsring or a character is present inside a string or not using ' in ' and ' not in' operator.\n",
    "\n",
    "'in' substring returns True if the given substring is found inside the main substring, otherwise false.\n",
    "\n",
    "#### NOTE: 'in' and 'not in' operators only make case sensitive comparisons."
   ]
  },
  {
   "cell_type": "code",
   "execution_count": 2,
   "metadata": {},
   "outputs": [
    {
     "ename": "NameError",
     "evalue": "name 'stt' is not defined",
     "output_type": "error",
     "traceback": [
      "\u001b[1;31m---------------------------------------------------------------------------\u001b[0m",
      "\u001b[1;31mNameError\u001b[0m                                 Traceback (most recent call last)",
      "\u001b[1;32m<ipython-input-2-2656e795ba57>\u001b[0m in \u001b[0;36m<module>\u001b[1;34m\u001b[0m\n\u001b[1;32m----> 1\u001b[1;33m \u001b[0mstt\u001b[0m\u001b[1;33m\u001b[0m\u001b[1;33m\u001b[0m\u001b[0m\n\u001b[0m",
      "\u001b[1;31mNameError\u001b[0m: name 'stt' is not defined"
     ]
    }
   ],
   "source": [
    "stt"
   ]
  },
  {
   "cell_type": "code",
   "execution_count": 3,
   "metadata": {},
   "outputs": [
    {
     "name": "stdout",
     "output_type": "stream",
     "text": [
      "Enter the main string: Kamal is a good boy.\n",
      "Enter the substring: .\n",
      ".  is present in  Kamal is a good boy.\n"
     ]
    }
   ],
   "source": [
    "string = input(\"Enter the main string: \")\n",
    "sub_string = input(\"Enter the substring: \")\n",
    "if sub_string in string:\n",
    "    print(sub_string,\" is present in \", string)\n",
    "else:\n",
    "    print(\"{} is not present in {}\".format(sub_string,string))"
   ]
  },
  {
   "cell_type": "code",
   "execution_count": 4,
   "metadata": {},
   "outputs": [
    {
     "name": "stdout",
     "output_type": "stream",
     "text": [
      "False\n",
      "True\n"
     ]
    }
   ],
   "source": [
    "#checkign for case senstivity\n",
    "\n",
    "print('core' in 'CORE PYHTON')\n",
    "print('CORE' in 'CORE PYTHON')"
   ]
  },
  {
   "cell_type": "markdown",
   "metadata": {},
   "source": [
    "### String Comparisons\n",
    "\n",
    "String comparisons bwteween two strings are done using relational operators like >, <, <=, >=, ==, != . \n",
    "\n",
    "They return bool values.\n",
    "\n",
    "<b>Relational operators make case sensitive comparisons.</b> \n",
    "\n",
    "Python compiler compares them form english dictionary,<b>which comes first in dictionary has lower value,which comes later attains higher value.</b>\n"
   ]
  },
  {
   "cell_type": "code",
   "execution_count": 5,
   "metadata": {},
   "outputs": [
    {
     "name": "stdout",
     "output_type": "stream",
     "text": [
      "not same\n"
     ]
    }
   ],
   "source": [
    "s1='boy'\n",
    "s2='bose'\n",
    "if s1==s2:\n",
    "    print('same')\n",
    "else:\n",
    "    print('not same')"
   ]
  },
  {
   "cell_type": "code",
   "execution_count": 6,
   "metadata": {},
   "outputs": [
    {
     "name": "stdout",
     "output_type": "stream",
     "text": [
      "not same\n"
     ]
    }
   ],
   "source": [
    "#case-sensitive comparisons\n",
    "s1='boy'\n",
    "s2='BOY'\n",
    "if s1==s2:\n",
    "    print('same')\n",
    "else:\n",
    "    print('not same')"
   ]
  },
  {
   "cell_type": "code",
   "execution_count": 7,
   "metadata": {},
   "outputs": [
    {
     "name": "stdout",
     "output_type": "stream",
     "text": [
      "apple comes first than joker\n"
     ]
    }
   ],
   "source": [
    "s1='apple'\n",
    "s2='joker'\n",
    "if s1<s2:\n",
    "    print(s1,'comes first than',s2)\n",
    "else:\n",
    "    print(s2,'comes first than',s2)"
   ]
  },
  {
   "cell_type": "code",
   "execution_count": 9,
   "metadata": {},
   "outputs": [
    {
     "name": "stdout",
     "output_type": "stream",
     "text": [
      "lower case string/character has higher precedence\n"
     ]
    }
   ],
   "source": [
    "#imp\n",
    "s1='b'\n",
    "s2='B'\n",
    "if s1>s2:\n",
    "    print(\"lower case string/character has higher precedence\")\n",
    "else:\n",
    "    print(\"upper case string/character has higher precedence\")"
   ]
  },
  {
   "cell_type": "markdown",
   "metadata": {},
   "source": [
    "### Removing spaces from String(INTR):\n",
    "Spaces becomes problematic when compared like:\n"
   ]
  },
  {
   "cell_type": "code",
   "execution_count": 10,
   "metadata": {},
   "outputs": [
    {
     "name": "stdout",
     "output_type": "stream",
     "text": [
      "False\n"
     ]
    }
   ],
   "source": [
    "print('remove ' == 'remove')"
   ]
  },
  {
   "cell_type": "markdown",
   "metadata": {},
   "source": [
    "The space in the first remote is causing the problem. So we use functions like <b> lstrip(), rstrip()</b> and <b>strip() </b> to remove any character or substring from the main string.\n",
    "\n",
    "By default, these three methods have <b>' '(space)</b> as the default argument.\n",
    "\n",
    "> rstrip() : removes characters from right side of the string.\n",
    "\n",
    "> lstrip() : removes characters from left side of the string.\n",
    "\n",
    "> strip() : removes characters from both side of the string.\n",
    "\n",
    "    These methods do not remove charcters from middle of the string."
   ]
  },
  {
   "cell_type": "code",
   "execution_count": 21,
   "metadata": {},
   "outputs": [
    {
     "data": {
      "text/plain": [
       "'  & Kamal Singh %  '"
      ]
     },
     "execution_count": 21,
     "metadata": {},
     "output_type": "execute_result"
    }
   ],
   "source": [
    "name='  & Kamal Singh %  ' #there are spaces present\n",
    "name"
   ]
  },
  {
   "cell_type": "code",
   "execution_count": 22,
   "metadata": {},
   "outputs": [],
   "source": [
    "name = name.strip()  #removing two space characeters from both sides\n"
   ]
  },
  {
   "cell_type": "code",
   "execution_count": 23,
   "metadata": {},
   "outputs": [
    {
     "data": {
      "text/plain": [
       "'& Kamal Singh %'"
      ]
     },
     "execution_count": 23,
     "metadata": {},
     "output_type": "execute_result"
    }
   ],
   "source": [
    "name"
   ]
  },
  {
   "cell_type": "code",
   "execution_count": 24,
   "metadata": {},
   "outputs": [
    {
     "name": "stdout",
     "output_type": "stream",
     "text": [
      "& Kamal Singh %\n"
     ]
    }
   ],
   "source": [
    "name = name.rstrip()\n",
    "print(name)"
   ]
  },
  {
   "cell_type": "code",
   "execution_count": 25,
   "metadata": {},
   "outputs": [
    {
     "name": "stdout",
     "output_type": "stream",
     "text": [
      "& Kamal Singh \n"
     ]
    }
   ],
   "source": [
    "name = name.rstrip('%')\n",
    "print(name)"
   ]
  },
  {
   "cell_type": "code",
   "execution_count": 27,
   "metadata": {},
   "outputs": [
    {
     "name": "stdout",
     "output_type": "stream",
     "text": [
      " Kamal Singh \n"
     ]
    }
   ],
   "source": [
    "name = name.lstrip(name[0])\n",
    "print(name)"
   ]
  },
  {
   "cell_type": "code",
   "execution_count": 28,
   "metadata": {},
   "outputs": [
    {
     "data": {
      "text/plain": [
       "' Kamal Singh '"
      ]
     },
     "execution_count": 28,
     "metadata": {},
     "output_type": "execute_result"
    }
   ],
   "source": [
    "name"
   ]
  },
  {
   "cell_type": "code",
   "execution_count": 29,
   "metadata": {},
   "outputs": [
    {
     "data": {
      "text/plain": [
       "'Kamal Singh'"
      ]
     },
     "execution_count": 29,
     "metadata": {},
     "output_type": "execute_result"
    }
   ],
   "source": [
    "name = name.strip()\n",
    "name"
   ]
  },
  {
   "cell_type": "markdown",
   "metadata": {},
   "source": [
    "### Finding Substring\n",
    "\n",
    "<b> find( ), rfind( ), index( ), rindex( )</b> methods returns the location of first occurence of substring inside the main string.\n",
    "\n",
    "FORMAT: \n",
    "> main_string.find( substring, beginning, end)\n",
    "\n",
    "    by default begning=0 and ending=len(main_string)-1.This format is same for all four methods.\n",
    "    \n",
    "> find() : returns index of first occurence of the substring, returns -1 when substring is not found in main_string.\n",
    "\n",
    "> rfind() : finds index of first occurence of the substring from backward direction ( right to left ). Also returns -1 if substring not found.\n",
    "\n",
    "> index() : returns index of first occurence of the substring, returns ' Value Error ' exception when substring is not found in main_string.\n",
    "\n",
    "> rindex ( ) :  returns index of first occurence of the substring from backward direction ( right to left ), returns ' Value Error ' exception when substring is not found in main_string."
   ]
  },
  {
   "cell_type": "code",
   "execution_count": 32,
   "metadata": {},
   "outputs": [
    {
     "name": "stdout",
     "output_type": "stream",
     "text": [
      "enter main string: kamal is a good boy\n",
      "enter sub string: good\n",
      "good found at position 12\n"
     ]
    }
   ],
   "source": [
    "#find()\n",
    "\n",
    "main_string = input(\"enter main string: \")\n",
    "sub_string = input(\"enter sub string: \")\n",
    "pos = mainstring.find(substring)\n",
    "if pos!=-1:\n",
    "    print(substring,\"found at position\",pos+1)\n",
    "else:\n",
    "    print(substring,\"not found\")"
   ]
  },
  {
   "cell_type": "code",
   "execution_count": 33,
   "metadata": {},
   "outputs": [
    {
     "name": "stdout",
     "output_type": "stream",
     "text": [
      "Enter the main String: kamal singh\n",
      "Enter the sub string: a\n",
      "element found at position 4\n"
     ]
    }
   ],
   "source": [
    "#rfind()\n",
    "main_string=input('Enter the main String: ')\n",
    "sub_string=input('Enter the sub string: ')\n",
    "pos=main_string.rfind(sub_string)\n",
    "if pos!=-1:\n",
    "    print('element found at position',pos+1)\n",
    "else:\n",
    "    print('element not found')"
   ]
  },
  {
   "cell_type": "code",
   "execution_count": 42,
   "metadata": {},
   "outputs": [
    {
     "name": "stdout",
     "output_type": "stream",
     "text": [
      "Enter the main String: kkk\n",
      "Enter the sub string: j\n",
      "element not found\n",
      "-1\n"
     ]
    }
   ],
   "source": [
    "#index()\n",
    "\n",
    "main_string=input('Enter the main String: ')\n",
    "sub_string=input('Enter the sub string: ')\n",
    "try:\n",
    "    pos=main_string.index(sub_string)\n",
    "except ValueError: \n",
    "    print('element not found')\n",
    "else:\n",
    "    print('element found at position',pos+1)\n",
    "print(pos)"
   ]
  },
  {
   "cell_type": "markdown",
   "metadata": {},
   "source": [
    "<b>These methods only return first occurennces but if we want to find inde of all occurennces we have to create our own logic.</b>"
   ]
  },
  {
   "cell_type": "code",
   "execution_count": 36,
   "metadata": {},
   "outputs": [
    {
     "name": "stdout",
     "output_type": "stream",
     "text": [
      "Enter the main String: kamaml\n",
      "Enter the sub string: am\n",
      "am found at position 2\n",
      "am found at position 4\n"
     ]
    }
   ],
   "source": [
    "#logic1\n",
    "main_string=input('Enter the main String: ')\n",
    "sub_string=input('Enter the sub string: ')\n",
    "flag = False\n",
    "n = len(main_string)\n",
    "i=0\n",
    "while i<n:\n",
    "    pos = main_string.find(sub_string,i,n)\n",
    "    if pos!=-1:\n",
    "        print(sub_string,\"found at position\",pos+1)\n",
    "        i=pos+1\n",
    "        flag=True\n",
    "    else:\n",
    "        i=i+1\n",
    "if flag==False:\n",
    "    print(sub_string,\"not found\")\n",
    "    "
   ]
  },
  {
   "cell_type": "code",
   "execution_count": 40,
   "metadata": {},
   "outputs": [
    {
     "name": "stdout",
     "output_type": "stream",
     "text": [
      "Enter the main String: kamalal\n",
      "Enter the sub string: al\n",
      "al found at 4\n",
      "al found at 6\n",
      "al not found\n"
     ]
    }
   ],
   "source": [
    "#logic2\n",
    "main_string=input('Enter the main String: ')\n",
    "sub_string=input('Enter the sub string: ')\n",
    "flag = False\n",
    "n = len(main_string)\n",
    "pos=-1\n",
    "while True:\n",
    "    pos = main_string.find(sub_string,pos+1,n)\n",
    "    if pos==-1:\n",
    "        flag=True\n",
    "        break\n",
    "    else:\n",
    "        print(sub_string,\"found at\",pos+1)\n",
    "if flag==True:\n",
    "    print(sub_string,\"not found\")"
   ]
  },
  {
   "cell_type": "code",
   "execution_count": 50,
   "metadata": {},
   "outputs": [
    {
     "name": "stdout",
     "output_type": "stream",
     "text": [
      "Enter the main String: kamaa\n",
      "Enter the sub string: a\n",
      "a found at position 2\n",
      "a found at position 4\n",
      "a found at position 5\n"
     ]
    }
   ],
   "source": [
    "#logic1- with index()\n",
    "# to be reviewed later??\n",
    "main_string=input('Enter the main String: ')\n",
    "sub_string=input('Enter the sub string: ')\n",
    "n=len(main_string)\n",
    "i=0\n",
    "while i<n:\n",
    "    try:\n",
    "        pos = main_string.index(sub_string,i,n)\n",
    "        if pos!=-1:\n",
    "            print(sub_string,\"found at position\",pos+1)\n",
    "            i=pos+1\n",
    "        else:\n",
    "            i=i+1\n",
    "            if pos=-1 and i=len(mainstring)\n",
    "    except ValueError:\n",
    "        print(sub_string,\"not found\")"
   ]
  },
  {
   "cell_type": "markdown",
   "metadata": {},
   "source": [
    "#### count() method\n",
    "This method returns the number of occurences of the substirng in the mainstring.\n",
    "\n",
    "FORMAT: \n",
    "> main_string.count(sub_string)"
   ]
  },
  {
   "cell_type": "code",
   "execution_count": 47,
   "metadata": {},
   "outputs": [
    {
     "name": "stdout",
     "output_type": "stream",
     "text": [
      "Enter the main String: kamal\n",
      "Enter the sub string: am\n",
      "'am' has occured 1 times in kamal\n"
     ]
    }
   ],
   "source": [
    "main_string=input('Enter the main String: ')\n",
    "sub_string=input('Enter the sub string: ')\n",
    "n=main_string.count(sub_string)\n",
    "print('\\'%s\\' has occured %d times in %s'%(sub_string,n,main_string))"
   ]
  },
  {
   "cell_type": "code",
   "execution_count": 48,
   "metadata": {},
   "outputs": [
    {
     "name": "stdout",
     "output_type": "stream",
     "text": [
      "Enter the main String: kamalal\n",
      "Enter the sub string: a\n",
      "'a' has occured 2 times in kamalal\n"
     ]
    }
   ],
   "source": [
    "#we can limit the range of search by: \n",
    "\n",
    "#   main_string.count(sub_string,beginning,end)\n",
    "\n",
    "\n",
    "main_string=input('Enter the main String: ')\n",
    "sub_string=input('Enter the sub string: ')\n",
    "n=main_string.count(sub_string,2,len(main_string)) #beg=2, end= lenght of string\n",
    "print('\\'%s\\' has occured %d times in %s'%(sub_string,n,main_string))\n"
   ]
  },
  {
   "cell_type": "markdown",
   "metadata": {},
   "source": [
    "### replace( ) function \n",
    " \n",
    " this method is used to replace a substring present in a string with another string. Return a copy with all occurrences of substring old replaced by new.\n",
    "\n",
    "      count attributE\n",
    "   \n",
    "Maximum number of occurrences to replace.\n",
    "1 (the default value) means replace all occurrences.\n",
    "\n",
    "If the optional argument count is given, only the first count occurrences are replaced.\n",
    " \n",
    " FORMAT: \n",
    " \n",
    " > main_string.replace( old , new , count=-1 )\n",
    " \n",
    " It doesn't makes any changes to the original string."
   ]
  },
  {
   "cell_type": "code",
   "execution_count": 52,
   "metadata": {},
   "outputs": [
    {
     "name": "stdout",
     "output_type": "stream",
     "text": [
      "it is a bike\n",
      "it is a car\n"
     ]
    }
   ],
   "source": [
    "string='it is a car'\n",
    "print(string.replace('car','bike'))\n",
    "print(string) #no change in original string\n"
   ]
  },
  {
   "cell_type": "markdown",
   "metadata": {},
   "source": [
    "# IMP: Splitting and Joining String\n",
    "\n",
    "#### split() method\n",
    "\n",
    "split() method returns a list of words in the string , using sep as the delimeter. String is broken into pieces by the value given in sep deliemeter.\n",
    "\n",
    "Format:\n",
    "> string.split(sep=None, maxsplit=-1)\n",
    "\n",
    "sep (sepeartor) is the delimiter according which to splitins is performed on the string. By default it is None. <i> Sep value can be any charcater or string<\\i>\n",
    "\n",
    "<i>maxsplit is maximum numbner of splits to do. -1 is default value, which means no limit"
   ]
  },
  {
   "cell_type": "code",
   "execution_count": 54,
   "metadata": {},
   "outputs": [
    {
     "name": "stdout",
     "output_type": "stream",
     "text": [
      "['kamal', 'is', 'a', 'good', 'boy']\n"
     ]
    }
   ],
   "source": [
    "string = \"kamal is a good boy\"\n",
    "print(string.split(\" \"))\n",
    "\n"
   ]
  },
  {
   "cell_type": "markdown",
   "metadata": {},
   "source": [
    "#### string is splitted by ' ', we can also split the string with 'o'"
   ]
  },
  {
   "cell_type": "code",
   "execution_count": 58,
   "metadata": {},
   "outputs": [
    {
     "name": "stdout",
     "output_type": "stream",
     "text": [
      "['kamal is a g', '', 'd b', 'y']\n"
     ]
    }
   ],
   "source": [
    "string = \"kamal is a good boy\"\n",
    "print(string.split(\"o\"))\n",
    "\n",
    "#returns a list object"
   ]
  },
  {
   "cell_type": "markdown",
   "metadata": {},
   "source": [
    "#### join( ) function\n",
    "\n",
    "join( ) method is used when we want to concatenate a group(iterable object) of strings to one single string line.\n",
    "\n",
    "FORMAT: \n",
    "\n",
    "> sep.join( iterable )\n",
    "\n",
    "    sep- seperator is the character by which we want to join those strings or chracters\n",
    "    iterable: group of string\n",
    "    \n",
    "#### The result is returned as a new string.\n"
   ]
  },
  {
   "cell_type": "code",
   "execution_count": 56,
   "metadata": {},
   "outputs": [
    {
     "name": "stdout",
     "output_type": "stream",
     "text": [
      "enter the character:  \n",
      "couliflower brinjal egg\n"
     ]
    }
   ],
   "source": [
    "vegies=['couliflower','brinjal','egg',]\n",
    "sep=input('enter the character: ')\n",
    "print(sep.join(vegies))"
   ]
  },
  {
   "cell_type": "code",
   "execution_count": 57,
   "metadata": {},
   "outputs": [
    {
     "name": "stdout",
     "output_type": "stream",
     "text": [
      "enter the character: -\n",
      "couliflower-brinjal-egg\n"
     ]
    }
   ],
   "source": [
    "vegies=['couliflower','brinjal','egg',]\n",
    "sep=input('enter the character: ')\n",
    "print(sep.join(vegies))"
   ]
  },
  {
   "cell_type": "markdown",
   "metadata": {},
   "source": [
    "### Making changes to string values\n",
    "\n",
    "To make changes in the element of the string we can use split() and join() method"
   ]
  },
  {
   "cell_type": "code",
   "execution_count": 60,
   "metadata": {},
   "outputs": [
    {
     "name": "stdout",
     "output_type": "stream",
     "text": [
      "['k', 'a', 'm', 'a', 'l']\n",
      "jamal\n"
     ]
    }
   ],
   "source": [
    "#example\n",
    "\n",
    "name = 'kamal'\n",
    "ls =list(name)\n",
    "print(ls)\n",
    "ls[0] = 'j'\n",
    "name1 = ''.join(ls)\n",
    "print(name1)"
   ]
  },
  {
   "cell_type": "markdown",
   "metadata": {},
   "source": [
    ">  we can also insert a string in between the string defining the index where we want to enter the string"
   ]
  },
  {
   "cell_type": "code",
   "execution_count": 65,
   "metadata": {},
   "outputs": [
    {
     "name": "stdout",
     "output_type": "stream",
     "text": [
      "old string: Its a summer\n",
      "enter the psoition: 5\n",
      "enter the substring to be added: bad\n",
      "['I', 't', 's', ' ', 'a', ' ', 'b', 'a', 'd', ' ']\n",
      "['I', 't', 's', ' ', 'a', ' ', 'b', 'a', 'd', ' ', 's', 'u', 'm', 'm', 'e', 'r']\n",
      "updated string:  Its a bad summer\n"
     ]
    }
   ],
   "source": [
    "string='Its a summer'\n",
    "print('old string:',string)\n",
    "n=int(input('enter the psoition: '))\n",
    "str1=[]\n",
    "for i in range(n+1):\n",
    "    str1.append(string[i])\n",
    "sub=input('enter the substring to be added: ')\n",
    "str1.extend(sub+' ')\n",
    "print(str1)\n",
    "for i in range(n+1,len(string)):\n",
    "    str1.append(string[i])\n",
    "print(str1)\n",
    "string=''.join(str1)\n",
    "print('updated string: ',string)"
   ]
  },
  {
   "cell_type": "markdown",
   "metadata": {},
   "source": [
    "### Changing cases of the string:\n",
    "\n",
    "There are 4 methods present in the string which can change cases of the string.\n",
    "\n",
    ">string.upper(): Return a copy of the string converted to uppercase.\n",
    "    \n",
    ">string.lower(): Return a copy of the string converted to lowercase.\n",
    "    \n",
    ">string.swapcase(): Convert uppercase characters to lowercase and lowercase characters to uppercase.\n",
    "    \n",
    ">string.title(): return a string scuch that first elmenet of each word in the string gets updated in upper case\n",
    "\n",
    "\n",
    "        makes no changes to original string, untill assigned."
   ]
  },
  {
   "cell_type": "code",
   "execution_count": 2,
   "metadata": {},
   "outputs": [
    {
     "name": "stdout",
     "output_type": "stream",
     "text": [
      "heLLo kaMal! how aRE yOu\n",
      "string.upper():  HELLO KAMAL! HOW ARE YOU\n",
      "string.lower():  hello kamal! how are you\n",
      "string.swapcase():  HEllO KAmAL! HOW Are YoU\n",
      "string.title():  Hello Kamal! How Are You\n"
     ]
    }
   ],
   "source": [
    "string='heLLo kaMal! how aRE yOu'\n",
    "print(string)\n",
    "print('string.upper(): ',string.upper())\n",
    "print('string.lower(): ',string.lower())\n",
    "print('string.swapcase(): ',string.swapcase())\n",
    "print('string.title(): ',string.title())"
   ]
  },
  {
   "cell_type": "markdown",
   "metadata": {},
   "source": [
    "#### startswith( ) method: \n",
    "\n",
    "returns True if the main string is starting with specified substring,otherwise False\n",
    "\n",
    "FORMAT:\n",
    ">main_string.startswith(substring)"
   ]
  },
  {
   "cell_type": "code",
   "execution_count": 4,
   "metadata": {},
   "outputs": [
    {
     "name": "stdout",
     "output_type": "stream",
     "text": [
      "heLLo kaMal! how aRE yOu\n",
      "False\n",
      "True\n",
      "False\n"
     ]
    }
   ],
   "source": [
    "#this method is case senstive\n",
    "\n",
    "print(string)\n",
    "print(string.startswith('hello'))\n",
    "\n",
    "print('Hello'.startswith('H'))\n",
    "print('Hello'.startswith('h'))"
   ]
  },
  {
   "cell_type": "markdown",
   "metadata": {},
   "source": [
    "#### startswith( ) method: \n",
    "\n",
    "returns True if the main string is starting with specified substring,otherwise False\n",
    "\n",
    "FORMAT: \n",
    "> main_string.startswith(substring)"
   ]
  },
  {
   "cell_type": "code",
   "execution_count": 5,
   "metadata": {},
   "outputs": [
    {
     "name": "stdout",
     "output_type": "stream",
     "text": [
      "heLLo kaMal! how aRE yOu\n",
      "True\n",
      "True\n",
      "False\n"
     ]
    }
   ],
   "source": [
    "#this method is case senstive\n",
    "\n",
    "print(string)\n",
    "print(string.endswith('yOu'))\n",
    "\n",
    "print('Hello'.endswith('o'))\n",
    "print('Hello'.endswith('O'))"
   ]
  },
  {
   "cell_type": "markdown",
   "metadata": {},
   "source": [
    "### Sorting in String\n",
    "\n",
    "We use <b>sort()</b> and <b>sorted()</b> to sort group of strings inside LIST object in alphabetical order.\n",
    "\n",
    "#### sort()\n",
    "\n",
    "> (group of string).sort(*, key=None, reverse=False): \n",
    "\n",
    "this method makes changes in the original group order\n",
    "    \n",
    "    reverse=false means ascending order\n",
    "    reverse=True means descending order"
   ]
  },
  {
   "cell_type": "code",
   "execution_count": 6,
   "metadata": {},
   "outputs": [
    {
     "name": "stdout",
     "output_type": "stream",
     "text": [
      "['four', 'one', 'three', 'two']\n"
     ]
    }
   ],
   "source": [
    "str_list=['one','two','three','four']\n",
    "str_list.sort()\n",
    "print(str_list)"
   ]
  },
  {
   "cell_type": "markdown",
   "metadata": {},
   "source": [
    "#### sorted( )\n",
    "\n",
    "Return a new list containing all items from the iterable in ascending order.\n",
    "\n",
    "> sorted(iterable, /, *, key=None, reverse=False)\n"
   ]
  },
  {
   "cell_type": "code",
   "execution_count": 8,
   "metadata": {},
   "outputs": [
    {
     "data": {
      "text/plain": [
       "['four', 'one', 'three', 'two']"
      ]
     },
     "execution_count": 8,
     "metadata": {},
     "output_type": "execute_result"
    }
   ],
   "source": [
    "sorted(str_list)"
   ]
  },
  {
   "cell_type": "markdown",
   "metadata": {},
   "source": [
    "### Searching in String\n",
    "\n",
    "Searching for a  substring inside a string is done by iterating the string,if found return the appropriate result.\n",
    "\n"
   ]
  },
  {
   "cell_type": "code",
   "execution_count": null,
   "metadata": {},
   "outputs": [],
   "source": []
  },
  {
   "cell_type": "markdown",
   "metadata": {},
   "source": [
    "# In-Built Functions of String"
   ]
  },
  {
   "cell_type": "code",
   "execution_count": 3,
   "metadata": {},
   "outputs": [],
   "source": [
    "sample = 'my name is Kamal Singh'"
   ]
  },
  {
   "cell_type": "code",
   "execution_count": 10,
   "metadata": {},
   "outputs": [
    {
     "data": {
      "text/plain": [
       "'My name is kamal singh'"
      ]
     },
     "execution_count": 10,
     "metadata": {},
     "output_type": "execute_result"
    }
   ],
   "source": [
    "sample.capitalize()\n",
    "#capitalizes first letter of each word in the string"
   ]
  },
  {
   "cell_type": "code",
   "execution_count": 11,
   "metadata": {},
   "outputs": [
    {
     "data": {
      "text/plain": [
       "'my name is kamal singh'"
      ]
     },
     "execution_count": 11,
     "metadata": {},
     "output_type": "execute_result"
    }
   ],
   "source": [
    "sample.casefold()\n",
    "#Return a version of the string suitable for caseless comparisons(meaning make sthe original string to only small case.)"
   ]
  },
  {
   "cell_type": "code",
   "execution_count": 12,
   "metadata": {},
   "outputs": [
    {
     "data": {
      "text/plain": [
       "'         my name is Kamal Singh         '"
      ]
     },
     "execution_count": 12,
     "metadata": {},
     "output_type": "execute_result"
    }
   ],
   "source": [
    "sample.center(40)\n",
    "#puts the string into center accoridng to the width given OR Return a centered string of length of given argumented width"
   ]
  },
  {
   "cell_type": "code",
   "execution_count": 13,
   "metadata": {},
   "outputs": [
    {
     "data": {
      "text/plain": [
       "1"
      ]
     },
     "execution_count": 13,
     "metadata": {},
     "output_type": "execute_result"
    }
   ],
   "source": [
    "sample.count('a')\n",
    "#counts number of occurences of the given substring in the main_string\n",
    "\n",
    "sample.count('a',4,11) #we can limit the search using beg and end argument values"
   ]
  },
  {
   "cell_type": "code",
   "execution_count": 15,
   "metadata": {},
   "outputs": [
    {
     "name": "stdout",
     "output_type": "stream",
     "text": [
      "b'my name is Kamal Singh'\n"
     ]
    }
   ],
   "source": [
    "print(sample.encode(encoding='utf-8'))\n",
    "\n"
   ]
  },
  {
   "cell_type": "code",
   "execution_count": 16,
   "metadata": {},
   "outputs": [
    {
     "name": "stdout",
     "output_type": "stream",
     "text": [
      "False\n",
      "True\n"
     ]
    }
   ],
   "source": [
    "print(sample.endswith('kamal'))\n",
    "\n",
    "#returns True if the main_string ends with the given string,otherwise false\n",
    "\n",
    "print(sample.startswith('my'))\n",
    "\n",
    "#returns True if the main_string starts with the given substring,otherise False\n",
    "\n",
    "#both are case senstive\n"
   ]
  },
  {
   "cell_type": "code",
   "execution_count": 17,
   "metadata": {},
   "outputs": [
    {
     "name": "stdout",
     "output_type": "stream",
     "text": [
      "my name is       kamal singh  #bydefault 8\n",
      "my name is   kamal singh  #for tabsize=3\n",
      "my name is                               kamal singh  #for tabsize=40\n"
     ]
    }
   ],
   "source": [
    "print('my name is \\t kamal singh  #bydefault 8'.expandtabs())\n",
    "\n",
    "#Return a copy where all tab characters are expanded using spaces means puts spaces of length tabsize in place of \\t\n",
    "#bydefault tab size is 8\n",
    "\n",
    "print('my name is \\t kamal singh  #for tabsize=3'.expandtabs(tabsize=3))\n",
    "\n",
    "print('my name is \\t kamal singh  #for tabsize=40'.expandtabs(tabsize=40))\n",
    "\n",
    "#it mainly expands  or contracts the tab"
   ]
  },
  {
   "cell_type": "code",
   "execution_count": 18,
   "metadata": {},
   "outputs": [
    {
     "name": "stdout",
     "output_type": "stream",
     "text": [
      "hello               \n",
      "               hello\n"
     ]
    }
   ],
   "source": [
    "print('hello'.ljust(20))\n",
    "\n",
    "#Return a left-justified string of length width means alligns the string on left\n",
    "\n",
    "print('hello'.rjust(20,))\n",
    "\n",
    "##Return a right-justified string of length width means alligns the string on right"
   ]
  },
  {
   "cell_type": "code",
   "execution_count": 1,
   "metadata": {},
   "outputs": [],
   "source": [
    "# maketrans() : The string maketrans() method returns a mapping table for translation usable for translate() method.\n",
    "\n",
    "#It is a static method that creates a one to one mapping of a character to its translation/replacement.\n",
    "\n",
    "\n",
    "\n",
    "'hello'.maketrans()"
   ]
  },
  {
   "cell_type": "code",
   "execution_count": 5,
   "metadata": {},
   "outputs": [],
   "source": [
    "9#translate method:  Replace each character in the string using the given translation table.\n",
    "\n",
    "#table\n",
    "#   Translation table, which must be a mapping of Unicode ordinals to\n",
    "#   Unicode ordinals, strings, or None.\n",
    "\n",
    "# first string\n",
    "firstString = \"agam\"\n",
    "secondString = \"kamal\"\n",
    "thirdString = \"singh\"\n",
    "sample.translate()"
   ]
  },
  {
   "cell_type": "markdown",
   "metadata": {},
   "source": [
    "# String Testing Methods"
   ]
  },
  {
   "cell_type": "code",
   "execution_count": 6,
   "metadata": {},
   "outputs": [],
   "source": [
    "string='kamal1282'"
   ]
  },
  {
   "cell_type": "code",
   "execution_count": 7,
   "metadata": {},
   "outputs": [
    {
     "name": "stdout",
     "output_type": "stream",
     "text": [
      "True\n",
      "True\n",
      "True\n"
     ]
    }
   ],
   "source": [
    "#isalnum()\n",
    "#Returns True if all characters in the string are alphanumeric,otherwise false\n",
    "\n",
    "print(string.isalnum()) \n",
    "\n",
    "print('kk'.isalnum())  #it works for only alphabet also\n",
    "\n",
    "print('22'.isalnum())  #it works for only numeric also"
   ]
  },
  {
   "cell_type": "code",
   "execution_count": 8,
   "metadata": {},
   "outputs": [
    {
     "name": "stdout",
     "output_type": "stream",
     "text": [
      "False\n",
      "False\n",
      "True\n"
     ]
    }
   ],
   "source": [
    "#isdecimal()\n",
    "#Returns True if all characters in the string are decimals,otherise False\n",
    "\n",
    "\n",
    "print(string.isdecimal())\n",
    "\n",
    "print('11.683'.isdecimal()) # . is not decimal\n",
    "\n",
    "print('11'.isdecimal())"
   ]
  },
  {
   "cell_type": "code",
   "execution_count": 9,
   "metadata": {},
   "outputs": [
    {
     "name": "stdout",
     "output_type": "stream",
     "text": [
      "False\n",
      "True\n",
      "False\n"
     ]
    }
   ],
   "source": [
    "#isalpha()--Returns True if all characters in the string are in the alphabet\n",
    "\n",
    "print(string.isalpha())\n",
    "print('hello'.isalpha())\n",
    "print('121'.isalpha())"
   ]
  },
  {
   "cell_type": "code",
   "execution_count": 10,
   "metadata": {},
   "outputs": [
    {
     "name": "stdout",
     "output_type": "stream",
     "text": [
      "True\n",
      "False\n"
     ]
    }
   ],
   "source": [
    "#istitle() \tReturns True if the string follows the rules of a title i.e. first letter of each word should be capital\n",
    "\n",
    "print('Hello Kamal'.istitle())\n",
    "print('hello kamal'.istitle())\n"
   ]
  },
  {
   "cell_type": "markdown",
   "metadata": {},
   "source": [
    "#### islower() :  checks if all elements are in lowercase\n",
    "\n",
    "#### isupper() :  checks if all elements are in uppercase\n",
    "\n",
    "#### isspace() :  Returns True if all characters in the string are whitespaces"
   ]
  },
  {
   "cell_type": "code",
   "execution_count": 12,
   "metadata": {},
   "outputs": [
    {
     "name": "stdout",
     "output_type": "stream",
     "text": [
      "False\n",
      "False\n",
      "True\n"
     ]
    }
   ],
   "source": [
    "#isdigit()\tReturns True if all characters in the string are digits\n",
    "\n",
    "print(string.isdigit())\n",
    "\n",
    "print('11.683'.isdigit()) # . is not digit\n",
    "\n",
    "print('11'.isdigit())"
   ]
  },
  {
   "cell_type": "code",
   "execution_count": null,
   "metadata": {},
   "outputs": [],
   "source": []
  }
 ],
 "metadata": {
  "kernelspec": {
   "display_name": "Python 3",
   "language": "python",
   "name": "python3"
  },
  "language_info": {
   "codemirror_mode": {
    "name": "ipython",
    "version": 3
   },
   "file_extension": ".py",
   "mimetype": "text/x-python",
   "name": "python",
   "nbconvert_exporter": "python",
   "pygments_lexer": "ipython3",
   "version": "3.8.6"
  }
 },
 "nbformat": 4,
 "nbformat_minor": 4
}
