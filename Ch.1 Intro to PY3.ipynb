{
 "cells": [
  {
   "cell_type": "markdown",
   "metadata": {},
   "source": [
    "# - Introduction\n",
    "\n",
    "Python is an interpreted high-level general-purpose programming language. It was developed to provide both functional programming like C and OOP based like Java. Pyhton is an open source software, means we can make changes to the source code and make it as desired.\n",
    "\n",
    "Python was developed by Guido Can Rossum in 1991 at Centre of Mathematics and Computer Science managed by dutch Government. \n",
    "\n",
    "Python is used in various edge cutting technoligies like AI & ML, Data Analytics,Data Visualizationb, Game development, Web development, GUI Development, Tast Frameworks, Web Scrapping, etc.\n",
    "\n",
    "<b>.py</b> is the extension used for a python file.\n",
    "\n",
    "### Features of Python\n",
    "- Easy to Learn\n",
    "- High Level language\n",
    "- Open source\n",
    "- Dynamically types : no mention of data type, assigmnt operator binds name with object\n",
    "- <b> Platform independent </b> : Use of byte code through PVM\n",
    "- Portable : generating same output on every machine\n",
    "- Interpreted\n",
    "- <b> Procedural as well as Object Oriented </b>\n",
    "- Extensible : using different falvours diff. lang. can be integrated\n",
    "- Hige Library\n",
    "- Scripting language\n",
    "- Scalable\n",
    "\n",
    "### Execution of a Python Program\n",
    "\n",
    "Python program when written is run by a python compiler which converts the code into Byte code. <b>Byte Code</b> is a fixed instruction set which makes python platform independent. Each byte code instruction is of size 1 byte and is contained in a file with extension <i>.pyc</i>\n",
    "\n",
    "Byte code is not understood by computer so we use PVM(Pyhton virtual machine) which understands the OS and processor and accordingly to convert byte code into machine code. Pyhton uses a interpreter to perform the activity. Different flavours of python uses different compiler like JIT(Just in Time- used by PyPy) on top of interpreter to increase the performance.\n",
    "\n",
    "   <b> source code->byte code->machine code->computer(output) </b>\n",
    "   \n",
    "command to generate .pyc file : C:\\>python -m py_compile x.py\n",
    "\n",
    "command to convert byte code to machine code : C:\\> x.cpython-34.pyc\n",
    "\n",
    "\n",
    "\n",
    "<b> Falvors of Python </b> : Cpython, Jython, IronPython, PyPy , RubyPython, Stackless Python, Pyhtonxy, AnacondaPython.\n",
    "\n",
    "\n",
    "### Frozen Binaries \n",
    "\n",
    "There are two ways of providing python software to customer:\n",
    "\n",
    "1. Providing .pyc file and user will install the required PVM and execute .pyc file.\n",
    "2. Providing .pvc file, Associated PVM and necessary python libraries combined in a form of executable file which user directly installs on the computer. This executable file is called <b> Frozen Binaries </b>. These are heavier in size. "
   ]
  },
  {
   "cell_type": "markdown",
   "metadata": {},
   "source": [
    "## - Memory management in Python\n",
    "\n",
    "Allocation of memory in python is automatically done by PVM. in python, everything is object from data types to functions to modules. memory manager in python allocates required memeory to the object during rumtime in a seperate space called <i>Heap</i>. Size of heap depends on RAM and can increase/decrease based on the requirement of the program.\n",
    "\n",
    "<i> Object specific Allocator </i> present in PVM allocates different types objects in different manner in heap m/m area. Python raw memory allocator ensures if enough memory for allocation is present or not.\n",
    "\n",
    "\n",
    "## - Garbage collection in Python\n",
    "\n",
    "Garbage collector module in python (also named as <i>gc</i>) is used for automatic deletion of unused objects from memory. \n",
    "\n",
    "        Garbage collector maintains the count of object references and usage. \n",
    "        The removal or persistance of objects is done on the basis of reference count.\n",
    "        \n",
    "- Once the reference count of the object becomes zero it is deallocated and freed from the memory.\n",
    "- Garbage collector can also detect reference cycles and is removed using <i>collect()</i> method manually running garbage collector. \n",
    "- garbage collector tries to delete young referenced objects which are not referenced in the program rather tahn old objects.\n",
    "        \n",
    "       Garbage collector runs automatically based on a thresold value. \n",
    "       When the no. of allocation-no. of deallocations >thresold, then gc runs automatically.\n",
    "       to know the thresold number , we use get_thresold() function."
   ]
  }
 ],
 "metadata": {
  "kernelspec": {
   "display_name": "Python 3",
   "language": "python",
   "name": "python3"
  },
  "language_info": {
   "codemirror_mode": {
    "name": "ipython",
    "version": 3
   },
   "file_extension": ".py",
   "mimetype": "text/x-python",
   "name": "python",
   "nbconvert_exporter": "python",
   "pygments_lexer": "ipython3",
   "version": "3.8.5"
  }
 },
 "nbformat": 4,
 "nbformat_minor": 4
}
